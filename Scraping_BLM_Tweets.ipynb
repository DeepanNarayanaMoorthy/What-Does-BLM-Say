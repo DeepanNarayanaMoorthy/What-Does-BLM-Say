{
  "nbformat": 4,
  "nbformat_minor": 0,
  "metadata": {
    "colab": {
      "name": "Scraping BLM Tweets.ipynb",
      "provenance": [],
      "collapsed_sections": []
    },
    "kernelspec": {
      "name": "python3",
      "display_name": "Python 3"
    }
  },
  "cells": [
    {
      "cell_type": "markdown",
      "metadata": {
        "id": "PAoqLZDl7FQS",
        "colab_type": "text"
      },
      "source": [
        "### **Loading Libraries**"
      ]
    },
    {
      "cell_type": "code",
      "metadata": {
        "id": "14IKQhgU0sdW",
        "colab_type": "code",
        "colab": {}
      },
      "source": [
        "!pip install GetOldTweets3\n"
      ],
      "execution_count": null,
      "outputs": []
    },
    {
      "cell_type": "code",
      "metadata": {
        "id": "wti8qVZ23QT0",
        "colab_type": "code",
        "colab": {}
      },
      "source": [
        "import pandas as pd\n",
        "import GetOldTweets3 as got"
      ],
      "execution_count": null,
      "outputs": []
    },
    {
      "cell_type": "markdown",
      "metadata": {
        "id": "2xomPUum3Iza",
        "colab_type": "text"
      },
      "source": [
        "### **From Normal People**"
      ]
    },
    {
      "cell_type": "code",
      "metadata": {
        "id": "zGIRDE5T3LN7",
        "colab_type": "code",
        "colab": {}
      },
      "source": [
        "tags=[\"blm\", \"blacklivesmatter\" ,\"georgefloyd\" ,\"justiceforgeorgefloyd\", \"icantbreathe\", 'black lives matter', 'george floyd' ]"
      ],
      "execution_count": null,
      "outputs": []
    },
    {
      "cell_type": "code",
      "metadata": {
        "id": "nWMu7ROylfOi",
        "colab_type": "code",
        "colab": {}
      },
      "source": [
        "since_date = '2020-05-25'  # George Floyd/Date of death\n",
        "until_date = '2020-08-01'  # Date of Project Creation\n",
        "count = 1500\n",
        "# Creation of query object\n",
        "columns = ['Date', 'Name', 'Text', 'Hashtags']\n",
        "citizen_tweets = pd.DataFrame(columns=columns)\n",
        "for tg in tags:\n",
        "  tweetCriteria = got.manager.TweetCriteria()\\\n",
        "                              .setQuerySearch(tg)\\\n",
        "                              .setTopTweets(True)\\\n",
        "                              .setSince(since_date)\\\n",
        "                              .setUntil(until_date)\\\n",
        "                              .setMaxTweets(count)\\\n",
        "                              .setEmoji(\"unicode\")\n",
        "  tweets = got.manager.TweetManager.getTweets(tweetCriteria)\n",
        "  temp = [[tw.date,tw.username, tw.text, tw.hashtags] for tw in tweets]\n",
        "  temp = pd.DataFrame(temp, columns = ['Date', 'Name', 'Text', 'Hashtags'])\n",
        "  citizen_tweets = pd.concat([citizen_tweets, temp])\n",
        "citizen_tweets.drop_duplicates(subset =\"Text\", \n",
        "                               keep = False, inplace = True)\n",
        "citizen_tweets.reset_index(drop=True, inplace=True)\n",
        "citizen_tweets.to_csv(\"blm_tweets.csv\")\n",
        "\n",
        "\n",
        "\n",
        "\n"
      ],
      "execution_count": null,
      "outputs": []
    },
    {
      "cell_type": "markdown",
      "metadata": {
        "id": "KhIDpYDkw01u",
        "colab_type": "text"
      },
      "source": [
        "### **From News Channels**"
      ]
    },
    {
      "cell_type": "code",
      "metadata": {
        "id": "E2gNkgoLljqf",
        "colab_type": "code",
        "colab": {}
      },
      "source": [
        "news_sources = ['nytimes', 'bbcbreaking', 'bbcnews', 'bbcworld', \n",
        "                'theeconomist', 'reuters','wsj', 'financialtimes',\n",
        "                'guardian', 'realdailywire', \"cnn\", \"msnbc\", \"blazetv\",\n",
        "                \"freespeechtv\", \"hgtv\"]"
      ],
      "execution_count": null,
      "outputs": []
    },
    {
      "cell_type": "code",
      "metadata": {
        "id": "NnPAwWFoxFWc",
        "colab_type": "code",
        "colab": {
          "base_uri": "https://localhost:8080/",
          "height": 178
        },
        "outputId": "4432da89-8bac-49dc-c9bc-de7d1636280b"
      },
      "source": [
        "columns = ['Date', 'Name', 'Text', 'Hashtags']\n",
        "count = 1500\n",
        "text_tweets = pd.DataFrame(columns=columns)\n",
        "since_date = '2020-05-25'  # George Floyd/Date of death\n",
        "until_date = '2020-08-01'  # Date of Project Creationf\n",
        "for tf in tags:\n",
        "  for ns in news_sources:\n",
        "    tweetCriteria = got.manager.TweetCriteria().setUsername(ns)\\\n",
        "                                           .setQuerySearch(tf)\\\n",
        "                                           .setSince(since_date)\\\n",
        "                                           .setUntil(until_date)\\\n",
        "                                           .setMaxTweets(count)\n",
        "    \n",
        "    tweets = got.manager.TweetManager.getTweets(tweetCriteria)\n",
        "    temp = [[tw.date,tw.username, tw.text, tw.hashtags] for tw in tweets]\n",
        "    temp = pd.DataFrame(temp, columns = ['Date', 'Name', 'Text', 'Hashtags'])\n",
        "    text_tweets = pd.concat([text_tweets, temp])\n",
        "citizen_tweets.drop_duplicates(subset =\"Text\", \n",
        "                               keep = False , inplace = True)\n",
        "text_tweets.reset_index(drop=True, inplace=True)\n",
        "text_tweets.head()\n",
        "text_tweets.tail()\n",
        "text_tweets.to_csv(\"blm_news.csv\")\n"
      ],
      "execution_count": null,
      "outputs": [
        {
          "output_type": "stream",
          "text": [
            "An error occured during an HTTP request: HTTP Error 429: Too Many Requests\n",
            "Try to open in browser: https://twitter.com/search?q=blm%20from%3Anytimes%20since%3A2020-05-25%20until%3A2020-08-01&src=typd\n"
          ],
          "name": "stdout"
        },
        {
          "output_type": "error",
          "ename": "SystemExit",
          "evalue": "ignored",
          "traceback": [
            "An exception has occurred, use %tb to see the full traceback.\n",
            "\u001b[0;31mSystemExit\u001b[0m\n"
          ]
        },
        {
          "output_type": "stream",
          "text": [
            "/usr/local/lib/python3.6/dist-packages/IPython/core/interactiveshell.py:2890: UserWarning: To exit: use 'exit', 'quit', or Ctrl-D.\n",
            "  warn(\"To exit: use 'exit', 'quit', or Ctrl-D.\", stacklevel=1)\n"
          ],
          "name": "stderr"
        }
      ]
    },
    {
      "cell_type": "code",
      "metadata": {
        "id": "drTBkf7lKPwA",
        "colab_type": "code",
        "colab": {}
      },
      "source": [
        ""
      ],
      "execution_count": null,
      "outputs": []
    }
  ]
}