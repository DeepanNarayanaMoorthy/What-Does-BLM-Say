{
  "nbformat": 4,
  "nbformat_minor": 0,
  "metadata": {
    "colab": {
      "name": "What does BLM say Part 2.ipynb",
      "provenance": [],
      "collapsed_sections": [
        "ovVr2bhBEOF4",
        "jVysM1x3sPe1"
      ],
      "toc_visible": true
    },
    "kernelspec": {
      "name": "python3",
      "display_name": "Python 3"
    }
  },
  "cells": [
    {
      "cell_type": "markdown",
      "metadata": {
        "id": "3NpF5tVjDhla",
        "colab_type": "text"
      },
      "source": [
        "# **Importing Libraries**"
      ]
    },
    {
      "cell_type": "code",
      "metadata": {
        "id": "9byBpvg4Cdck",
        "colab_type": "code",
        "colab": {}
      },
      "source": [
        "import numpy as np\n",
        "import pandas as pd\n",
        "import re\n",
        "import nltk \n",
        "nltk.download('brown')\n",
        "nltk.download('stopwords')\n",
        "nltk.download('wordnet')\n",
        "nltk.download('punkt')\n",
        "nltk.download('averaged_perceptron_tagger') \n",
        "from textblob import TextBlob\n",
        "import matplotlib.pyplot as plt\n",
        "import plotly.graph_objs as go\n",
        "from sklearn.feature_extraction.text import TfidfVectorizer \n",
        "from sklearn.metrics.pairwise import cosine_similarity\n",
        "from textblob import TextBlob\n",
        "import plotly.express as px"
      ],
      "execution_count": null,
      "outputs": []
    },
    {
      "cell_type": "markdown",
      "metadata": {
        "id": "w5eyTg2bDmh7",
        "colab_type": "text"
      },
      "source": [
        "# **Loading Datasets**"
      ]
    },
    {
      "cell_type": "code",
      "metadata": {
        "id": "wg3QUccWCoCZ",
        "colab_type": "code",
        "colab": {}
      },
      "source": [
        "def remove_URL(sample):\n",
        "    return re.sub(r\"http\\S+\", \"\", sample) "
      ],
      "execution_count": null,
      "outputs": []
    },
    {
      "cell_type": "code",
      "metadata": {
        "id": "CacaGnXBCqGw",
        "colab_type": "code",
        "colab": {}
      },
      "source": [
        "blm_tweets=pd.read_csv(\"https://raw.githubusercontent.com/DeepanNarayanaMoorthy/What-Does-BLM-Say/master/datasets/blm_tweets.csv\", error_bad_lines=False)\n",
        "blm_news=pd.read_csv(\"https://raw.githubusercontent.com/DeepanNarayanaMoorthy/What-Does-BLM-Say/master/datasets/blm_news.csv\", error_bad_lines=False)"
      ],
      "execution_count": null,
      "outputs": []
    },
    {
      "cell_type": "code",
      "metadata": {
        "id": "m4PL8KYmCsnI",
        "colab_type": "code",
        "colab": {
          "base_uri": "https://localhost:8080/",
          "height": 296
        },
        "outputId": "81efdba9-ea8a-4553-ec7a-84d0cb1c77f4"
      },
      "source": [
        "blm_tweets[:5]"
      ],
      "execution_count": null,
      "outputs": [
        {
          "output_type": "execute_result",
          "data": {
            "text/html": [
              "<div>\n",
              "<style scoped>\n",
              "    .dataframe tbody tr th:only-of-type {\n",
              "        vertical-align: middle;\n",
              "    }\n",
              "\n",
              "    .dataframe tbody tr th {\n",
              "        vertical-align: top;\n",
              "    }\n",
              "\n",
              "    .dataframe thead th {\n",
              "        text-align: right;\n",
              "    }\n",
              "</style>\n",
              "<table border=\"1\" class=\"dataframe\">\n",
              "  <thead>\n",
              "    <tr style=\"text-align: right;\">\n",
              "      <th></th>\n",
              "      <th>Unnamed: 0</th>\n",
              "      <th>Date</th>\n",
              "      <th>Name</th>\n",
              "      <th>Text</th>\n",
              "      <th>Hashtags</th>\n",
              "    </tr>\n",
              "  </thead>\n",
              "  <tbody>\n",
              "    <tr>\n",
              "      <th>0</th>\n",
              "      <td>0</td>\n",
              "      <td>2020-07-31 23:52:04+00:00</td>\n",
              "      <td>Willimperial</td>\n",
              "      <td>😂 “The Liar Tweets Tonight” #resist #resistanc...</td>\n",
              "      <td>#resist #resistance #DumpTrump2020 #DumpTrump ...</td>\n",
              "    </tr>\n",
              "    <tr>\n",
              "      <th>1</th>\n",
              "      <td>1</td>\n",
              "      <td>2020-07-31 23:47:44+00:00</td>\n",
              "      <td>robbystarbuck</td>\n",
              "      <td>Going to go tell BLM protestors I’m Republican...</td>\n",
              "      <td>NaN</td>\n",
              "    </tr>\n",
              "    <tr>\n",
              "      <th>2</th>\n",
              "      <td>2</td>\n",
              "      <td>2020-07-31 23:34:25+00:00</td>\n",
              "      <td>DemocracyInn</td>\n",
              "      <td>Wow The @WallOfDocs has joined the Portland pr...</td>\n",
              "      <td>#BlackLivesMatter #BlackLivesMatter #ImpotusAm...</td>\n",
              "    </tr>\n",
              "    <tr>\n",
              "      <th>3</th>\n",
              "      <td>3</td>\n",
              "      <td>2020-07-31 23:33:39+00:00</td>\n",
              "      <td>MDconnected</td>\n",
              "      <td>If our flag is racists, why did they cover Joh...</td>\n",
              "      <td>#BLM</td>\n",
              "    </tr>\n",
              "    <tr>\n",
              "      <th>4</th>\n",
              "      <td>4</td>\n",
              "      <td>2020-07-31 23:30:20+00:00</td>\n",
              "      <td>GamingMegaverse</td>\n",
              "      <td>Whether the league does it or not I will. #Kne...</td>\n",
              "      <td>#Kneel4Hockey #BLM</td>\n",
              "    </tr>\n",
              "  </tbody>\n",
              "</table>\n",
              "</div>"
            ],
            "text/plain": [
              "   Unnamed: 0  ...                                           Hashtags\n",
              "0           0  ...  #resist #resistance #DumpTrump2020 #DumpTrump ...\n",
              "1           1  ...                                                NaN\n",
              "2           2  ...  #BlackLivesMatter #BlackLivesMatter #ImpotusAm...\n",
              "3           3  ...                                               #BLM\n",
              "4           4  ...                                 #Kneel4Hockey #BLM\n",
              "\n",
              "[5 rows x 5 columns]"
            ]
          },
          "metadata": {
            "tags": []
          },
          "execution_count": 5
        }
      ]
    },
    {
      "cell_type": "code",
      "metadata": {
        "id": "aaEVrW0pCuHH",
        "colab_type": "code",
        "colab": {
          "base_uri": "https://localhost:8080/",
          "height": 195
        },
        "outputId": "92f24412-5c55-4aec-84b0-1edf10295d01"
      },
      "source": [
        "blm_news[\"Text\"]=[remove_URL(i) for i in blm_news[\"Text\"]]\n",
        "blm_tweets[\"Text\"]=[remove_URL(str(i)) for i in blm_tweets[\"Text\"]]\n",
        "blm_news.drop_duplicates(subset =\"Text\", \n",
        "                     keep = False, inplace = True)\n",
        "blm_news.reset_index(drop=True, inplace=True)\n",
        "blm_news[:5]"
      ],
      "execution_count": null,
      "outputs": [
        {
          "output_type": "execute_result",
          "data": {
            "text/html": [
              "<div>\n",
              "<style scoped>\n",
              "    .dataframe tbody tr th:only-of-type {\n",
              "        vertical-align: middle;\n",
              "    }\n",
              "\n",
              "    .dataframe tbody tr th {\n",
              "        vertical-align: top;\n",
              "    }\n",
              "\n",
              "    .dataframe thead th {\n",
              "        text-align: right;\n",
              "    }\n",
              "</style>\n",
              "<table border=\"1\" class=\"dataframe\">\n",
              "  <thead>\n",
              "    <tr style=\"text-align: right;\">\n",
              "      <th></th>\n",
              "      <th>Unnamed: 0</th>\n",
              "      <th>Date</th>\n",
              "      <th>Name</th>\n",
              "      <th>Text</th>\n",
              "      <th>Hashtags</th>\n",
              "    </tr>\n",
              "  </thead>\n",
              "  <tbody>\n",
              "    <tr>\n",
              "      <th>0</th>\n",
              "      <td>0</td>\n",
              "      <td>2020-06-10 17:42:40+00:00</td>\n",
              "      <td>BBCNews</td>\n",
              "      <td>Reni Eddo-Lodge breaks book chart record amid ...</td>\n",
              "      <td>NaN</td>\n",
              "    </tr>\n",
              "    <tr>\n",
              "      <th>1</th>\n",
              "      <td>1</td>\n",
              "      <td>2020-07-25 13:59:02+00:00</td>\n",
              "      <td>TheEconomist</td>\n",
              "      <td>They are planning BLM style protests in Westmi...</td>\n",
              "      <td>NaN</td>\n",
              "    </tr>\n",
              "    <tr>\n",
              "      <th>2</th>\n",
              "      <td>2</td>\n",
              "      <td>2020-06-20 11:28:01+00:00</td>\n",
              "      <td>TheEconomist</td>\n",
              "      <td>Many young activists ignored BLM UK’s advice n...</td>\n",
              "      <td>NaN</td>\n",
              "    </tr>\n",
              "    <tr>\n",
              "      <th>3</th>\n",
              "      <td>3</td>\n",
              "      <td>2020-05-25 16:00:13+00:00</td>\n",
              "      <td>TheEconomist</td>\n",
              "      <td>“The general public has become a bit exhausted...</td>\n",
              "      <td>NaN</td>\n",
              "    </tr>\n",
              "    <tr>\n",
              "      <th>4</th>\n",
              "      <td>9</td>\n",
              "      <td>2020-06-11 09:29:11+00:00</td>\n",
              "      <td>Reuters</td>\n",
              "      <td>Motor racing: McLaren's Norris loses followers...</td>\n",
              "      <td>NaN</td>\n",
              "    </tr>\n",
              "  </tbody>\n",
              "</table>\n",
              "</div>"
            ],
            "text/plain": [
              "   Unnamed: 0  ... Hashtags\n",
              "0           0  ...      NaN\n",
              "1           1  ...      NaN\n",
              "2           2  ...      NaN\n",
              "3           3  ...      NaN\n",
              "4           9  ...      NaN\n",
              "\n",
              "[5 rows x 5 columns]"
            ]
          },
          "metadata": {
            "tags": []
          },
          "execution_count": 6
        }
      ]
    },
    {
      "cell_type": "markdown",
      "metadata": {
        "id": "ovVr2bhBEOF4",
        "colab_type": "text"
      },
      "source": [
        "# **Identifying Most Prominent Words**"
      ]
    },
    {
      "cell_type": "code",
      "metadata": {
        "id": "a3yepxvMEaMJ",
        "colab_type": "code",
        "colab": {}
      },
      "source": [
        "nouns=[]\n",
        "for i in blm_tweets[\"Text\"]:\n",
        "  blob = TextBlob(i).noun_phrases\n",
        "  nouns.extend(blob)\n",
        "nouns=np.array(nouns)\n",
        "nouns_values, nouns_counts = np.unique(nouns, return_counts=True)"
      ],
      "execution_count": null,
      "outputs": []
    },
    {
      "cell_type": "code",
      "metadata": {
        "id": "Zd0Mad61KtWs",
        "colab_type": "code",
        "colab": {
          "base_uri": "https://localhost:8080/",
          "height": 269
        },
        "outputId": "6489bf28-81a7-4c4b-9a2e-11f14c77e967"
      },
      "source": [
        "np.unique(nouns_counts, return_counts=True)"
      ],
      "execution_count": null,
      "outputs": [
        {
          "output_type": "execute_result",
          "data": {
            "text/plain": [
              "(array([   1,    2,    3,    4,    5,    6,    7,    8,    9,   10,   11,\n",
              "          12,   13,   14,   15,   16,   17,   18,   19,   20,   21,   22,\n",
              "          23,   24,   25,   26,   27,   28,   29,   30,   33,   35,   36,\n",
              "          37,   38,   40,   41,   45,   46,   47,   50,   51,   53,   55,\n",
              "          56,   58,   59,   63,   64,   66,   74,   75,   79,   80,   81,\n",
              "          87,   90,  103,  105,  112,  136,  140,  231,  353,  441,  476,\n",
              "         669,  923, 1052, 1056, 1236]),\n",
              " array([11337,  1249,   412,   198,   104,    88,    55,    42,    46,\n",
              "           24,    20,    18,    13,    16,    12,    13,    11,    19,\n",
              "            3,     6,     6,     3,     7,     3,     3,     4,     3,\n",
              "            1,     1,     2,     1,     2,     3,     1,     2,     1,\n",
              "            1,     1,     1,     2,     1,     1,     2,     1,     1,\n",
              "            1,     1,     1,     1,     1,     1,     1,     1,     1,\n",
              "            1,     1,     1,     1,     1,     1,     1,     1,     1,\n",
              "            1,     1,     1,     1,     1,     1,     1,     1]))"
            ]
          },
          "metadata": {
            "tags": []
          },
          "execution_count": 8
        }
      ]
    },
    {
      "cell_type": "markdown",
      "metadata": {
        "id": "lKwFBaAsOTpZ",
        "colab_type": "text"
      },
      "source": [
        "## **Removing Least Occuring Nouns**"
      ]
    },
    {
      "cell_type": "code",
      "metadata": {
        "id": "wXaHpZy_Le8Z",
        "colab_type": "code",
        "colab": {
          "base_uri": "https://localhost:8080/",
          "height": 185
        },
        "outputId": "e2986068-1413-4c5c-8c3b-5450902fe002"
      },
      "source": [
        "for i in range(1,11):\n",
        "  index_list=np.where(nouns_counts == i)\n",
        "  nouns_counts=np.delete(nouns_counts, index_list)\n",
        "  nouns_values=np.delete(nouns_values, index_list)\n",
        "np.unique(nouns_counts, return_counts=True)"
      ],
      "execution_count": null,
      "outputs": [
        {
          "output_type": "execute_result",
          "data": {
            "text/plain": [
              "(array([  11,   12,   13,   14,   15,   16,   17,   18,   19,   20,   21,\n",
              "          22,   23,   24,   25,   26,   27,   28,   29,   30,   33,   35,\n",
              "          36,   37,   38,   40,   41,   45,   46,   47,   50,   51,   53,\n",
              "          55,   56,   58,   59,   63,   64,   66,   74,   75,   79,   80,\n",
              "          81,   87,   90,  103,  105,  112,  136,  140,  231,  353,  441,\n",
              "         476,  669,  923, 1052, 1056, 1236]),\n",
              " array([20, 18, 13, 16, 12, 13, 11, 19,  3,  6,  6,  3,  7,  3,  3,  4,  3,\n",
              "         1,  1,  2,  1,  2,  3,  1,  2,  1,  1,  1,  1,  2,  1,  1,  2,  1,\n",
              "         1,  1,  1,  1,  1,  1,  1,  1,  1,  1,  1,  1,  1,  1,  1,  1,  1,\n",
              "         1,  1,  1,  1,  1,  1,  1,  1,  1,  1]))"
            ]
          },
          "metadata": {
            "tags": []
          },
          "execution_count": 9
        }
      ]
    },
    {
      "cell_type": "code",
      "metadata": {
        "id": "4LUDDdARMVF1",
        "colab_type": "code",
        "colab": {
          "base_uri": "https://localhost:8080/",
          "height": 50
        },
        "outputId": "3abec655-f5da-4f24-ce28-3030f0b4aca9"
      },
      "source": [
        "print(len(nouns_values))\n",
        "print(len(nouns_counts))\n",
        "count_sort_ind = np.argsort(nouns_counts)"
      ],
      "execution_count": null,
      "outputs": [
        {
          "output_type": "stream",
          "text": [
            "211\n",
            "211\n"
          ],
          "name": "stdout"
        }
      ]
    },
    {
      "cell_type": "markdown",
      "metadata": {
        "id": "cD6d_2C2Oazg",
        "colab_type": "text"
      },
      "source": [
        "## **Plotting Frequencies of Nouns**"
      ]
    },
    {
      "cell_type": "code",
      "metadata": {
        "id": "TLbBEiqAOJ0U",
        "colab_type": "code",
        "colab": {
          "base_uri": "https://localhost:8080/",
          "height": 542
        },
        "outputId": "f2a5d5ba-172a-4669-8fb5-a42667cfe020"
      },
      "source": [
        "x = list(nouns_values[count_sort_ind])\n",
        "y = list(nouns_counts[count_sort_ind])\n",
        "fig = go.Figure(go.Bar(x=x, y=y, name='Nouns', marker=dict(cmax=1236,cmin=0,color=y,colorbar=dict(title=\"Scale\"),colorscale=\"Viridis\")))\n",
        "fig.update_layout(title_text='Nouns Distribution : Total words = '+str(len(nouns_values))+' : Please Zoom to See All Words' )\n",
        "fig.write_html(\"nouns_distribution.html\")\n",
        "fig"
      ],
      "execution_count": null,
      "outputs": [
        {
          "output_type": "display_data",
          "data": {
            "text/html": [
              "<html>\n",
              "<head><meta charset=\"utf-8\" /></head>\n",
              "<body>\n",
              "    <div>\n",
              "            <script src=\"https://cdnjs.cloudflare.com/ajax/libs/mathjax/2.7.5/MathJax.js?config=TeX-AMS-MML_SVG\"></script><script type=\"text/javascript\">if (window.MathJax) {MathJax.Hub.Config({SVG: {font: \"STIX-Web\"}});}</script>\n",
              "                <script type=\"text/javascript\">window.PlotlyConfig = {MathJaxConfig: 'local'};</script>\n",
              "        <script src=\"https://cdn.plot.ly/plotly-latest.min.js\"></script>    \n",
              "            <div id=\"ebabfe62-06fb-4699-afd5-c5149c79ebf4\" class=\"plotly-graph-div\" style=\"height:525px; width:100%;\"></div>\n",
              "            <script type=\"text/javascript\">\n",
              "                \n",
              "                    window.PLOTLYENV=window.PLOTLYENV || {};\n",
              "                    \n",
              "                if (document.getElementById(\"ebabfe62-06fb-4699-afd5-c5149c79ebf4\")) {\n",
              "                    Plotly.newPlot(\n",
              "                        'ebabfe62-06fb-4699-afd5-c5149c79ebf4',\n",
              "                        [{\"marker\": {\"cmax\": 1236, \"cmin\": 0, \"color\": [11, 11, 11, 11, 11, 11, 11, 11, 11, 11, 11, 11, 11, 11, 11, 11, 11, 11, 11, 11, 12, 12, 12, 12, 12, 12, 12, 12, 12, 12, 12, 12, 12, 12, 12, 12, 12, 12, 13, 13, 13, 13, 13, 13, 13, 13, 13, 13, 13, 13, 13, 14, 14, 14, 14, 14, 14, 14, 14, 14, 14, 14, 14, 14, 14, 14, 14, 15, 15, 15, 15, 15, 15, 15, 15, 15, 15, 15, 15, 16, 16, 16, 16, 16, 16, 16, 16, 16, 16, 16, 16, 16, 17, 17, 17, 17, 17, 17, 17, 17, 17, 17, 17, 18, 18, 18, 18, 18, 18, 18, 18, 18, 18, 18, 18, 18, 18, 18, 18, 18, 18, 18, 19, 19, 19, 20, 20, 20, 20, 20, 20, 21, 21, 21, 21, 21, 21, 22, 22, 22, 23, 23, 23, 23, 23, 23, 23, 24, 24, 24, 25, 25, 25, 26, 26, 26, 26, 27, 27, 27, 28, 29, 30, 30, 33, 35, 35, 36, 36, 36, 37, 38, 38, 40, 41, 45, 46, 47, 47, 50, 51, 53, 53, 55, 56, 58, 59, 63, 64, 66, 74, 75, 79, 80, 81, 87, 90, 103, 105, 112, 136, 140, 231, 353, 441, 476, 669, 923, 1052, 1056, 1236], \"colorbar\": {\"title\": {\"text\": \"Scale\"}}, \"colorscale\": [[0.0, \"#440154\"], [0.1111111111111111, \"#482878\"], [0.2222222222222222, \"#3e4989\"], [0.3333333333333333, \"#31688e\"], [0.4444444444444444, \"#26828e\"], [0.5555555555555556, \"#1f9e89\"], [0.6666666666666666, \"#35b779\"], [0.7777777777777778, \"#6ece58\"], [0.8888888888888888, \"#b5de2b\"], [1.0, \"#fde725\"]]}, \"name\": \"Nouns\", \"type\": \"bar\", \"x\": [\"tear gas\", \"art\", \"justicepouradama\", \"ahmaudarbery\", \"fuck\", \"nfl\", \"milwaukee\", \"democrat\", \"instagram\", \"poc\", \"aren \\u2019 t\", \"city hall\", \"# justiceforgeorgefloyd # ivehadenough\", \"youtube\", \"| #\", \"trumpdictatorship\", \"thread\", \"houston\", \"# antireport #\", \"donald trump\", \"march\", \"australia\", \"blackouttuesday\", \"chain @\", \"manchester\", \"garrettfoster\", \"gon na\", \"# ivehadenough\", \"georgefloydprotest\", \"# justiceforgeorgefloyd # justiceforbreonnataylor # ivehadenough\", \"now\", \"ennuestramemoriasiempre\", \"@ realdonaldtrump\", \"ericgarner\", \"aboriginallivesmatter\", \"proud\", \"everyone\", \"thanks\", \"rest\", \"social media\", \"support\", \"richmond\", \"haven \\u2019 t\", \"imagine\", \"eric garner\", \"# antireport\", \"israeli\", \"joebiden\", \"york\", \"atlanta\", \"protesters\", \"sayhername\", \"protestors\", \"powerful\", \"facebook\", \"alllivesmatter\", \"palestine\", \"justiceforbellymujinga\", \"icantbreath\", \"justiceforsafoorazargar\", \"demand\", \"garrett foster\", \"china\", \"black man\", \"cnn\", \"listen\", \"justiceforfloyd\", \"# blm\", \"not\", \"covid\", \"nypd\", \"oakland\", \"justiceforelijahmcclain\", \"stop\", \"white house\", \"police officers\", \"ca\", \"peaceful\", \"runtofeel\", \"john lewis\", \"\\u2019 d\", \"# justiceforgeorgefloyd # justiceforbreonnataylor\", \"mn\", \"marxist\", \"well\", \"wedemandchange\", \"kneel4hockey\", \"stand\", \"live\", \"mentioned\", \"all\", \"breathe\", \"police violence\", \"justicefortonymcdade\", \"solidarity\", \"doesn \\u2019 t\", \"portlandprotest\", \"comunirunners\", \"universerunners\", \"antiracismday\", \"nyc\", \"have\", \"\\u201d #\", \"never\", \"enoughisenough\", \"blacklivesmatteruk\", \"twitter\", \"systemic racism\", \"chicago\", \"covid-19\", \"your\", \"... #\", \"# protests2020 #\", \"didn \\u2019 t\", \"say\", \"# blacklivesmatter #\", \"hey\", \"hong kong\", \"hundreds\", \"remember\", \"sayhisname\", \"washington\", \"don\", \"may\", \"istaystrong\", \"africa\", \"y \\u2019\", \"be\", \"oh\", \"july\", \"dc\", \"minnesota\", \"who\", \"oregon\", \"demand justice\", \"ftp\", \"racial justice\", \"# blm #\", \"graciash\\u00e9roes\", \"video\", \"white people\", \"texas\", \"\\u2066 @\", \"black lives\", \"acab\", \"george\", \"keep\", \"\\u2019 ll\", \"seattle\", \"african\", \"watch\", \"biden\", \"nba\", \"anonymous\", \"floyd\", \"join\", \"austin\", \"ca n't breathe\", \"isn \\u2019 t\", \"uk\", \"ca n't\", \"# blacklivesmatter\", \"wo n't\", \"defundthepolice\", \"taketheknee\", \"covid19\", \"london\", \"read\", \"racism\", \"justiceforbreonna\", \"usa\", \"breonnataylor\", \"justiceforahmaudarbery\", \"u.s.\", \"god\", \"\\u2019 ve\", \"georgefloydprotests\", \"saytheirnames\", \"black people\", \"thank\", \"black lives matter\", \"policebrutality\", \"blacklivesmattter\", \"don \\u2019 t\", \"blacklivesmattters\", \"minneapolis\", \"please\", \"nojusticenopeace\", \"# icantbreathe #\", \"june\", \"\\u2019 m\", \"breonna taylor\", \"portland\", \"police brutality\", \"antifa\", \"\\u2019 re\", \"love\", \"\\u2019 t\", \"# icantbreathe\", \"america\", \"justiceforbreonnataylor\", \"trump\", \"matter\", \"\\u2019 s\", \"georgefloyd\", \"black\", \"george floyd\", \"justiceforgeorgefloyd\", \"blm\", \"icantbreathe\", \"blacklivesmatter\"], \"y\": [11, 11, 11, 11, 11, 11, 11, 11, 11, 11, 11, 11, 11, 11, 11, 11, 11, 11, 11, 11, 12, 12, 12, 12, 12, 12, 12, 12, 12, 12, 12, 12, 12, 12, 12, 12, 12, 12, 13, 13, 13, 13, 13, 13, 13, 13, 13, 13, 13, 13, 13, 14, 14, 14, 14, 14, 14, 14, 14, 14, 14, 14, 14, 14, 14, 14, 14, 15, 15, 15, 15, 15, 15, 15, 15, 15, 15, 15, 15, 16, 16, 16, 16, 16, 16, 16, 16, 16, 16, 16, 16, 16, 17, 17, 17, 17, 17, 17, 17, 17, 17, 17, 17, 18, 18, 18, 18, 18, 18, 18, 18, 18, 18, 18, 18, 18, 18, 18, 18, 18, 18, 18, 19, 19, 19, 20, 20, 20, 20, 20, 20, 21, 21, 21, 21, 21, 21, 22, 22, 22, 23, 23, 23, 23, 23, 23, 23, 24, 24, 24, 25, 25, 25, 26, 26, 26, 26, 27, 27, 27, 28, 29, 30, 30, 33, 35, 35, 36, 36, 36, 37, 38, 38, 40, 41, 45, 46, 47, 47, 50, 51, 53, 53, 55, 56, 58, 59, 63, 64, 66, 74, 75, 79, 80, 81, 87, 90, 103, 105, 112, 136, 140, 231, 353, 441, 476, 669, 923, 1052, 1056, 1236]}],\n",
              "                        {\"template\": {\"data\": {\"bar\": [{\"error_x\": {\"color\": \"#2a3f5f\"}, \"error_y\": {\"color\": \"#2a3f5f\"}, \"marker\": {\"line\": {\"color\": \"#E5ECF6\", \"width\": 0.5}}, \"type\": \"bar\"}], \"barpolar\": [{\"marker\": {\"line\": {\"color\": \"#E5ECF6\", \"width\": 0.5}}, \"type\": \"barpolar\"}], \"carpet\": [{\"aaxis\": {\"endlinecolor\": \"#2a3f5f\", \"gridcolor\": \"white\", \"linecolor\": \"white\", \"minorgridcolor\": \"white\", \"startlinecolor\": \"#2a3f5f\"}, \"baxis\": {\"endlinecolor\": \"#2a3f5f\", \"gridcolor\": \"white\", \"linecolor\": \"white\", \"minorgridcolor\": \"white\", \"startlinecolor\": \"#2a3f5f\"}, \"type\": \"carpet\"}], \"choropleth\": [{\"colorbar\": {\"outlinewidth\": 0, \"ticks\": \"\"}, \"type\": \"choropleth\"}], \"contour\": [{\"colorbar\": {\"outlinewidth\": 0, \"ticks\": \"\"}, \"colorscale\": [[0.0, \"#0d0887\"], [0.1111111111111111, \"#46039f\"], [0.2222222222222222, \"#7201a8\"], [0.3333333333333333, \"#9c179e\"], [0.4444444444444444, \"#bd3786\"], [0.5555555555555556, \"#d8576b\"], [0.6666666666666666, \"#ed7953\"], [0.7777777777777778, \"#fb9f3a\"], [0.8888888888888888, \"#fdca26\"], [1.0, \"#f0f921\"]], \"type\": \"contour\"}], \"contourcarpet\": [{\"colorbar\": {\"outlinewidth\": 0, \"ticks\": \"\"}, \"type\": \"contourcarpet\"}], \"heatmap\": [{\"colorbar\": {\"outlinewidth\": 0, \"ticks\": \"\"}, \"colorscale\": [[0.0, \"#0d0887\"], [0.1111111111111111, \"#46039f\"], [0.2222222222222222, \"#7201a8\"], [0.3333333333333333, \"#9c179e\"], [0.4444444444444444, \"#bd3786\"], [0.5555555555555556, \"#d8576b\"], [0.6666666666666666, \"#ed7953\"], [0.7777777777777778, \"#fb9f3a\"], [0.8888888888888888, \"#fdca26\"], [1.0, \"#f0f921\"]], \"type\": \"heatmap\"}], \"heatmapgl\": [{\"colorbar\": {\"outlinewidth\": 0, \"ticks\": \"\"}, \"colorscale\": [[0.0, \"#0d0887\"], [0.1111111111111111, \"#46039f\"], [0.2222222222222222, \"#7201a8\"], [0.3333333333333333, \"#9c179e\"], [0.4444444444444444, \"#bd3786\"], [0.5555555555555556, \"#d8576b\"], [0.6666666666666666, \"#ed7953\"], [0.7777777777777778, \"#fb9f3a\"], [0.8888888888888888, \"#fdca26\"], [1.0, \"#f0f921\"]], \"type\": \"heatmapgl\"}], \"histogram\": [{\"marker\": {\"colorbar\": {\"outlinewidth\": 0, \"ticks\": \"\"}}, \"type\": \"histogram\"}], \"histogram2d\": [{\"colorbar\": {\"outlinewidth\": 0, \"ticks\": \"\"}, \"colorscale\": [[0.0, \"#0d0887\"], [0.1111111111111111, \"#46039f\"], [0.2222222222222222, \"#7201a8\"], [0.3333333333333333, \"#9c179e\"], [0.4444444444444444, \"#bd3786\"], [0.5555555555555556, \"#d8576b\"], [0.6666666666666666, \"#ed7953\"], [0.7777777777777778, \"#fb9f3a\"], [0.8888888888888888, \"#fdca26\"], [1.0, \"#f0f921\"]], \"type\": \"histogram2d\"}], \"histogram2dcontour\": [{\"colorbar\": {\"outlinewidth\": 0, \"ticks\": \"\"}, \"colorscale\": [[0.0, \"#0d0887\"], [0.1111111111111111, \"#46039f\"], [0.2222222222222222, \"#7201a8\"], [0.3333333333333333, \"#9c179e\"], [0.4444444444444444, \"#bd3786\"], [0.5555555555555556, \"#d8576b\"], [0.6666666666666666, \"#ed7953\"], [0.7777777777777778, \"#fb9f3a\"], [0.8888888888888888, \"#fdca26\"], [1.0, \"#f0f921\"]], \"type\": \"histogram2dcontour\"}], \"mesh3d\": [{\"colorbar\": {\"outlinewidth\": 0, \"ticks\": \"\"}, \"type\": \"mesh3d\"}], \"parcoords\": [{\"line\": {\"colorbar\": {\"outlinewidth\": 0, \"ticks\": \"\"}}, \"type\": \"parcoords\"}], \"pie\": [{\"automargin\": true, \"type\": \"pie\"}], \"scatter\": [{\"marker\": {\"colorbar\": {\"outlinewidth\": 0, \"ticks\": \"\"}}, \"type\": \"scatter\"}], \"scatter3d\": [{\"line\": {\"colorbar\": {\"outlinewidth\": 0, \"ticks\": \"\"}}, \"marker\": {\"colorbar\": {\"outlinewidth\": 0, \"ticks\": \"\"}}, \"type\": \"scatter3d\"}], \"scattercarpet\": [{\"marker\": {\"colorbar\": {\"outlinewidth\": 0, \"ticks\": \"\"}}, \"type\": \"scattercarpet\"}], \"scattergeo\": [{\"marker\": {\"colorbar\": {\"outlinewidth\": 0, \"ticks\": \"\"}}, \"type\": \"scattergeo\"}], \"scattergl\": [{\"marker\": {\"colorbar\": {\"outlinewidth\": 0, \"ticks\": \"\"}}, \"type\": \"scattergl\"}], \"scattermapbox\": [{\"marker\": {\"colorbar\": {\"outlinewidth\": 0, \"ticks\": \"\"}}, \"type\": \"scattermapbox\"}], \"scatterpolar\": [{\"marker\": {\"colorbar\": {\"outlinewidth\": 0, \"ticks\": \"\"}}, \"type\": \"scatterpolar\"}], \"scatterpolargl\": [{\"marker\": {\"colorbar\": {\"outlinewidth\": 0, \"ticks\": \"\"}}, \"type\": \"scatterpolargl\"}], \"scatterternary\": [{\"marker\": {\"colorbar\": {\"outlinewidth\": 0, \"ticks\": \"\"}}, \"type\": \"scatterternary\"}], \"surface\": [{\"colorbar\": {\"outlinewidth\": 0, \"ticks\": \"\"}, \"colorscale\": [[0.0, \"#0d0887\"], [0.1111111111111111, \"#46039f\"], [0.2222222222222222, \"#7201a8\"], [0.3333333333333333, \"#9c179e\"], [0.4444444444444444, \"#bd3786\"], [0.5555555555555556, \"#d8576b\"], [0.6666666666666666, \"#ed7953\"], [0.7777777777777778, \"#fb9f3a\"], [0.8888888888888888, \"#fdca26\"], [1.0, \"#f0f921\"]], \"type\": \"surface\"}], \"table\": [{\"cells\": {\"fill\": {\"color\": \"#EBF0F8\"}, \"line\": {\"color\": \"white\"}}, \"header\": {\"fill\": {\"color\": \"#C8D4E3\"}, \"line\": {\"color\": \"white\"}}, \"type\": \"table\"}]}, \"layout\": {\"annotationdefaults\": {\"arrowcolor\": \"#2a3f5f\", \"arrowhead\": 0, \"arrowwidth\": 1}, \"coloraxis\": {\"colorbar\": {\"outlinewidth\": 0, \"ticks\": \"\"}}, \"colorscale\": {\"diverging\": [[0, \"#8e0152\"], [0.1, \"#c51b7d\"], [0.2, \"#de77ae\"], [0.3, \"#f1b6da\"], [0.4, \"#fde0ef\"], [0.5, \"#f7f7f7\"], [0.6, \"#e6f5d0\"], [0.7, \"#b8e186\"], [0.8, \"#7fbc41\"], [0.9, \"#4d9221\"], [1, \"#276419\"]], \"sequential\": [[0.0, \"#0d0887\"], [0.1111111111111111, \"#46039f\"], [0.2222222222222222, \"#7201a8\"], [0.3333333333333333, \"#9c179e\"], [0.4444444444444444, \"#bd3786\"], [0.5555555555555556, \"#d8576b\"], [0.6666666666666666, \"#ed7953\"], [0.7777777777777778, \"#fb9f3a\"], [0.8888888888888888, \"#fdca26\"], [1.0, \"#f0f921\"]], \"sequentialminus\": [[0.0, \"#0d0887\"], [0.1111111111111111, \"#46039f\"], [0.2222222222222222, \"#7201a8\"], [0.3333333333333333, \"#9c179e\"], [0.4444444444444444, \"#bd3786\"], [0.5555555555555556, \"#d8576b\"], [0.6666666666666666, \"#ed7953\"], [0.7777777777777778, \"#fb9f3a\"], [0.8888888888888888, \"#fdca26\"], [1.0, \"#f0f921\"]]}, \"colorway\": [\"#636efa\", \"#EF553B\", \"#00cc96\", \"#ab63fa\", \"#FFA15A\", \"#19d3f3\", \"#FF6692\", \"#B6E880\", \"#FF97FF\", \"#FECB52\"], \"font\": {\"color\": \"#2a3f5f\"}, \"geo\": {\"bgcolor\": \"white\", \"lakecolor\": \"white\", \"landcolor\": \"#E5ECF6\", \"showlakes\": true, \"showland\": true, \"subunitcolor\": \"white\"}, \"hoverlabel\": {\"align\": \"left\"}, \"hovermode\": \"closest\", \"mapbox\": {\"style\": \"light\"}, \"paper_bgcolor\": \"white\", \"plot_bgcolor\": \"#E5ECF6\", \"polar\": {\"angularaxis\": {\"gridcolor\": \"white\", \"linecolor\": \"white\", \"ticks\": \"\"}, \"bgcolor\": \"#E5ECF6\", \"radialaxis\": {\"gridcolor\": \"white\", \"linecolor\": \"white\", \"ticks\": \"\"}}, \"scene\": {\"xaxis\": {\"backgroundcolor\": \"#E5ECF6\", \"gridcolor\": \"white\", \"gridwidth\": 2, \"linecolor\": \"white\", \"showbackground\": true, \"ticks\": \"\", \"zerolinecolor\": \"white\"}, \"yaxis\": {\"backgroundcolor\": \"#E5ECF6\", \"gridcolor\": \"white\", \"gridwidth\": 2, \"linecolor\": \"white\", \"showbackground\": true, \"ticks\": \"\", \"zerolinecolor\": \"white\"}, \"zaxis\": {\"backgroundcolor\": \"#E5ECF6\", \"gridcolor\": \"white\", \"gridwidth\": 2, \"linecolor\": \"white\", \"showbackground\": true, \"ticks\": \"\", \"zerolinecolor\": \"white\"}}, \"shapedefaults\": {\"line\": {\"color\": \"#2a3f5f\"}}, \"ternary\": {\"aaxis\": {\"gridcolor\": \"white\", \"linecolor\": \"white\", \"ticks\": \"\"}, \"baxis\": {\"gridcolor\": \"white\", \"linecolor\": \"white\", \"ticks\": \"\"}, \"bgcolor\": \"#E5ECF6\", \"caxis\": {\"gridcolor\": \"white\", \"linecolor\": \"white\", \"ticks\": \"\"}}, \"title\": {\"x\": 0.05}, \"xaxis\": {\"automargin\": true, \"gridcolor\": \"white\", \"linecolor\": \"white\", \"ticks\": \"\", \"title\": {\"standoff\": 15}, \"zerolinecolor\": \"white\", \"zerolinewidth\": 2}, \"yaxis\": {\"automargin\": true, \"gridcolor\": \"white\", \"linecolor\": \"white\", \"ticks\": \"\", \"title\": {\"standoff\": 15}, \"zerolinecolor\": \"white\", \"zerolinewidth\": 2}}}, \"title\": {\"text\": \"Nouns Distribution : Total words = 211 : Please Zoom to See All Words\"}},\n",
              "                        {\"responsive\": true}\n",
              "                    ).then(function(){\n",
              "                            \n",
              "var gd = document.getElementById('ebabfe62-06fb-4699-afd5-c5149c79ebf4');\n",
              "var x = new MutationObserver(function (mutations, observer) {{\n",
              "        var display = window.getComputedStyle(gd).display;\n",
              "        if (!display || display === 'none') {{\n",
              "            console.log([gd, 'removed!']);\n",
              "            Plotly.purge(gd);\n",
              "            observer.disconnect();\n",
              "        }}\n",
              "}});\n",
              "\n",
              "// Listen for the removal of the full notebook cells\n",
              "var notebookContainer = gd.closest('#notebook-container');\n",
              "if (notebookContainer) {{\n",
              "    x.observe(notebookContainer, {childList: true});\n",
              "}}\n",
              "\n",
              "// Listen for the clearing of the current output cell\n",
              "var outputEl = gd.closest('.output');\n",
              "if (outputEl) {{\n",
              "    x.observe(outputEl, {childList: true});\n",
              "}}\n",
              "\n",
              "                        })\n",
              "                };\n",
              "                \n",
              "            </script>\n",
              "        </div>\n",
              "</body>\n",
              "</html>"
            ]
          },
          "metadata": {
            "tags": []
          }
        }
      ]
    },
    {
      "cell_type": "markdown",
      "metadata": {
        "id": "9N1DvRuJUhNV",
        "colab_type": "text"
      },
      "source": [
        "# **Finding Similar Tweets**"
      ]
    },
    {
      "cell_type": "code",
      "metadata": {
        "id": "scXvbKqXUk_l",
        "colab_type": "code",
        "colab": {}
      },
      "source": [
        "blm_tweets_text=blm_tweets['Text']"
      ],
      "execution_count": null,
      "outputs": []
    },
    {
      "cell_type": "code",
      "metadata": {
        "id": "plGU6dl0U8ch",
        "colab_type": "code",
        "colab": {
          "base_uri": "https://localhost:8080/",
          "height": 34
        },
        "outputId": "6b2cb798-d9f5-4d5f-ae30-0aa36088d25f"
      },
      "source": [
        "tfidf_vectorizer = TfidfVectorizer() \n",
        "tfidf_matrix = tfidf_vectorizer.fit_transform(blm_tweets_text)\n",
        "tfidf_matrix.shape"
      ],
      "execution_count": null,
      "outputs": [
        {
          "output_type": "execute_result",
          "data": {
            "text/plain": [
              "(4779, 14732)"
            ]
          },
          "metadata": {
            "tags": []
          },
          "execution_count": 13
        }
      ]
    },
    {
      "cell_type": "code",
      "metadata": {
        "id": "joX9r44GWAfV",
        "colab_type": "code",
        "colab": {}
      },
      "source": [
        "c_sim = cosine_similarity(tfidf_matrix,tfidf_matrix)"
      ],
      "execution_count": null,
      "outputs": []
    },
    {
      "cell_type": "code",
      "metadata": {
        "id": "NCU06cTCcVay",
        "colab_type": "code",
        "colab": {
          "base_uri": "https://localhost:8080/",
          "height": 34
        },
        "outputId": "eb75a7bd-3c8b-4b7d-b2ad-d614ba71cc34"
      },
      "source": [
        "type(c_sim)"
      ],
      "execution_count": null,
      "outputs": [
        {
          "output_type": "execute_result",
          "data": {
            "text/plain": [
              "numpy.ndarray"
            ]
          },
          "metadata": {
            "tags": []
          },
          "execution_count": 15
        }
      ]
    },
    {
      "cell_type": "markdown",
      "metadata": {
        "id": "mRHNyZsohRGo",
        "colab_type": "text"
      },
      "source": [
        "## **Top 25 Tweets in Similarity**"
      ]
    },
    {
      "cell_type": "code",
      "metadata": {
        "id": "U6ZLt2J0gSbV",
        "colab_type": "code",
        "colab": {
          "base_uri": "https://localhost:8080/",
          "height": 454
        },
        "outputId": "25b00cc8-c9ee-4f0e-e51a-93baf50add80"
      },
      "source": [
        "c_sim_sum=c_sim.sum(axis=1)\n",
        "blm_tweets_text[np.argsort(c_sim_sum)[-25:]]"
      ],
      "execution_count": null,
      "outputs": [
        {
          "output_type": "execute_result",
          "data": {
            "text/plain": [
              "2063    Jews United for Justice affirms unequivocally ...\n",
              "4494    Oh my. \"While my time here has now come to an ...\n",
              "4559    Anyone else tired of the \"tHE pROTeST iSN't aB...\n",
              "3946    I can't breathe. The final words of George Flo...\n",
              "4568    The worst part of this is that white lives DO ...\n",
              "556     This is the passion that rocked the nation whe...\n",
              "3670    Demonstrators march past the US Embassy in Lon...\n",
              "2453    Today, in Hillside, we marched for justice. Fo...\n",
              "4171    Black man killed in the street, in broad dayli...\n",
              "2496    On behalf of the entire USA I would like to th...\n",
              "4757    George Floyd was not the first and he won’t be...\n",
              "4627    This is wrong and ignorant, it’s about the deh...\n",
              "2989    This is the face of what you're supporting. Th...\n",
              "360     The #WallofVets mission is not to tell people ...\n",
              "1870    Peaceful protests in Los Angeles and across Am...\n",
              "1673    Achraf Hakimi: I spoke with Sancho before the ...\n",
              "2564    I support the BLM movement. But I can't believ...\n",
              "2516    Now is the time to speak up, and let your voic...\n",
              "144     i really hate to say this but it’s so sad to s...\n",
              "2136    Biden: \"Now is the time for racial justice. Th...\n",
              "2863    No matter what the president says, the problem...\n",
              "1693    See through this & are tired of these smears. ...\n",
              "2267    We see you all taking action across the world ...\n",
              "4363    We knelt in silence for the 8 minutes that Geo...\n",
              "1622    BLM is a movement. In case you were in a coma,...\n",
              "Name: Text, dtype: object"
            ]
          },
          "metadata": {
            "tags": []
          },
          "execution_count": 18
        }
      ]
    },
    {
      "cell_type": "markdown",
      "metadata": {
        "id": "efpdtYcLpuwP",
        "colab_type": "text"
      },
      "source": [
        "### **Similarity Heat Map**"
      ]
    },
    {
      "cell_type": "code",
      "metadata": {
        "id": "__ziAqglXH2N",
        "colab_type": "code",
        "colab": {
          "base_uri": "https://localhost:8080/",
          "height": 34
        },
        "outputId": "989b4e97-fb1f-43c4-81be-5aadd58cf2a4"
      },
      "source": [
        "fig = go.Figure(data=go.Heatmap(\n",
        "    z=[list(item) for item in c_sim[np.ix_(np.argsort(c_sim_sum)[-25:],np.argsort(c_sim_sum)[-25:])]],\n",
        "    x = blm_tweets_text[np.argsort(c_sim_sum)[-100:]],\n",
        "    y = blm_tweets_text[np.argsort(c_sim_sum)[-100:]]))\n",
        "fig.write_html(\"sentences_scatter.html\")\n",
        "print('Plot Saved as sentences_scatter.html')"
      ],
      "execution_count": null,
      "outputs": [
        {
          "output_type": "stream",
          "text": [
            "Plot Saved as sentences_scatter.html\n"
          ],
          "name": "stdout"
        }
      ]
    },
    {
      "cell_type": "markdown",
      "metadata": {
        "id": "jVysM1x3sPe1",
        "colab_type": "text"
      },
      "source": [
        "# **Elementary Sentiment Analysis**"
      ]
    },
    {
      "cell_type": "code",
      "metadata": {
        "id": "G6nNWAi7tbXb",
        "colab_type": "code",
        "colab": {
          "base_uri": "https://localhost:8080/",
          "height": 284
        },
        "outputId": "941d8201-ec69-45cc-fd36-c5bbb6e21055"
      },
      "source": [
        "polarities = [TextBlob(text).sentiment.polarity for text in blm_tweets_text]\n",
        "pd.DataFrame(polarities,columns=[\"pol\"]).describe()"
      ],
      "execution_count": null,
      "outputs": [
        {
          "output_type": "execute_result",
          "data": {
            "text/html": [
              "<div>\n",
              "<style scoped>\n",
              "    .dataframe tbody tr th:only-of-type {\n",
              "        vertical-align: middle;\n",
              "    }\n",
              "\n",
              "    .dataframe tbody tr th {\n",
              "        vertical-align: top;\n",
              "    }\n",
              "\n",
              "    .dataframe thead th {\n",
              "        text-align: right;\n",
              "    }\n",
              "</style>\n",
              "<table border=\"1\" class=\"dataframe\">\n",
              "  <thead>\n",
              "    <tr style=\"text-align: right;\">\n",
              "      <th></th>\n",
              "      <th>pol</th>\n",
              "    </tr>\n",
              "  </thead>\n",
              "  <tbody>\n",
              "    <tr>\n",
              "      <th>count</th>\n",
              "      <td>4779.000000</td>\n",
              "    </tr>\n",
              "    <tr>\n",
              "      <th>mean</th>\n",
              "      <td>0.042171</td>\n",
              "    </tr>\n",
              "    <tr>\n",
              "      <th>std</th>\n",
              "      <td>0.259704</td>\n",
              "    </tr>\n",
              "    <tr>\n",
              "      <th>min</th>\n",
              "      <td>-1.000000</td>\n",
              "    </tr>\n",
              "    <tr>\n",
              "      <th>25%</th>\n",
              "      <td>-0.051852</td>\n",
              "    </tr>\n",
              "    <tr>\n",
              "      <th>50%</th>\n",
              "      <td>0.000000</td>\n",
              "    </tr>\n",
              "    <tr>\n",
              "      <th>75%</th>\n",
              "      <td>0.143095</td>\n",
              "    </tr>\n",
              "    <tr>\n",
              "      <th>max</th>\n",
              "      <td>1.000000</td>\n",
              "    </tr>\n",
              "  </tbody>\n",
              "</table>\n",
              "</div>"
            ],
            "text/plain": [
              "               pol\n",
              "count  4779.000000\n",
              "mean      0.042171\n",
              "std       0.259704\n",
              "min      -1.000000\n",
              "25%      -0.051852\n",
              "50%       0.000000\n",
              "75%       0.143095\n",
              "max       1.000000"
            ]
          },
          "metadata": {
            "tags": []
          },
          "execution_count": 33
        }
      ]
    },
    {
      "cell_type": "code",
      "metadata": {
        "id": "kHiL4ZkwtFoU",
        "colab_type": "code",
        "colab": {
          "base_uri": "https://localhost:8080/",
          "height": 542
        },
        "outputId": "5dc2ae1a-d742-4c79-f81e-9a5588f875dd"
      },
      "source": [
        "df = pd.DataFrame(polarities,columns=[\"pol\"])\n",
        "fig = px.histogram(df, x=\"pol\")\n",
        "fig.update_layout(title_text='Sentiment Analysis Histogram : Number of Tweets = '+str(len(blm_tweets_text)) )\n",
        "fig.write_html(\"sentiment_histogram.html\")\n",
        "fig.show()"
      ],
      "execution_count": null,
      "outputs": [
        {
          "output_type": "display_data",
          "data": {
            "text/html": [
              "<html>\n",
              "<head><meta charset=\"utf-8\" /></head>\n",
              "<body>\n",
              "    <div>\n",
              "            <script src=\"https://cdnjs.cloudflare.com/ajax/libs/mathjax/2.7.5/MathJax.js?config=TeX-AMS-MML_SVG\"></script><script type=\"text/javascript\">if (window.MathJax) {MathJax.Hub.Config({SVG: {font: \"STIX-Web\"}});}</script>\n",
              "                <script type=\"text/javascript\">window.PlotlyConfig = {MathJaxConfig: 'local'};</script>\n",
              "        <script src=\"https://cdn.plot.ly/plotly-latest.min.js\"></script>    \n",
              "            <div id=\"bc8fa8a9-e080-489e-97f4-2c3831c03e93\" class=\"plotly-graph-div\" style=\"height:525px; width:100%;\"></div>\n",
              "            <script type=\"text/javascript\">\n",
              "                \n",
              "                    window.PLOTLYENV=window.PLOTLYENV || {};\n",
              "                    \n",
              "                if (document.getElementById(\"bc8fa8a9-e080-489e-97f4-2c3831c03e93\")) {\n",
              "                    Plotly.newPlot(\n",
              "                        'bc8fa8a9-e080-489e-97f4-2c3831c03e93',\n",
              "                        [{\"alignmentgroup\": \"True\", \"bingroup\": \"x\", \"hoverlabel\": {\"namelength\": 0}, \"hovertemplate\": \"pol=%{x}<br>count=%{y}\", \"legendgroup\": \"\", \"marker\": {\"color\": \"#636efa\"}, \"name\": \"\", \"offsetgroup\": \"\", \"orientation\": \"v\", \"showlegend\": false, \"type\": \"histogram\", \"x\": [0.0, 0.0, 0.125, 0.0, 0.0, 0.0, 0.85, 0.25, 0.65, 0.2, -0.16666666666666666, -0.2, 0.0, 0.08666666666666666, 0.0, 0.0, 0.0, 0.0, 0.0, 0.0, 0.0, -0.3125, 0.2, 0.0, 0.225, 0.05744949494949495, 0.0, 0.0, 0.225, 0.0, 0.043333333333333356, -0.5, 0.8, 0.03333333333333335, 0.11249999999999999, -0.5, -0.16666666666666666, 0.0, 0.0, 0.21666666666666665, 0.10714285714285714, 0.0, -0.4, 0.04166666666666668, -0.41666666666666663, 0.0, -0.40277777777777773, 0.0, -0.01666666666666668, 0.4166666666666667, -0.13333333333333333, 0.05, -0.16666666666666666, 0.06250000000000001, -0.125, -0.25, 0.0, 0.4, 0.0, 0.5, 0.037500000000000006, 0.275, 0.0, 0.2857142857142857, 0.09666666666666666, -0.8, -0.033333333333333326, 0.29285714285714287, -0.125, 0.03333333333333334, -0.08935185185185186, -0.18958333333333333, 0.0, -0.0630952380952381, 0.0, 0.25, 0.0, 0.0, 0.0, 0.0, 0.0, 0.0, 0.0, 0.14714285714285713, 0.05, 0.0, 0.0, 0.0837215847439236, 0.0, -0.16666666666666666, 0.0, -0.25, -0.03333333333333333, 0.35, -0.16666666666666666, -0.2, 0.0, 0.0, -0.025, 0.12361111111111109, -0.6, 0.0, 0.08583333333333333, -0.19999999999999996, 0.14285714285714285, 0.5, -0.05666666666666664, 0.17333333333333337, -0.08749999999999994, -0.2, 0.0, 0.08, 0.5, 0.0, 0.10000000000000002, 0.4583333333333333, -0.08333333333333333, -0.16666666666666669, -0.2, 0.175, -0.6999999999999998, 0.09642857142857143, -0.16666666666666666, 0.45, 0.5, 0.5625, 0.0, 0.0, -0.01111111111111109, 0.0, 0.0, 0.20833333333333334, 0.7, -0.10000000000000002, 0.625, -0.2923076923076923, 0.35714285714285715, -0.35333333333333333, -0.08333333333333333, -0.16666666666666666, -0.4, -0.07222222222222223, 0.17045454545454544, -0.16666666666666666, -0.48888888888888893, -0.03571428571428573, 0.2, -0.16666666666666666, 0.0, 0.0, 0.0, 0.0888888888888889, 0.06666666666666665, 0.2356060606060606, 0.7, 0.17045454545454544, 0.2, -0.09765625, 0.016666666666666666, 0.075, 0.13333333333333333, -0.05436507936507936, 0.0, 0.275, -0.2, -0.5571428571428572, 0.16666666666666669, 0.0, -0.30000000000000004, -0.3125, 0.0, 0.13636363636363635, 0.1333333333333333, 0.0, 0.0, 0.13636363636363635, 0.35, 0.06666666666666665, 0.375, 0.0, 0.10833333333333334, 0.015625, 0.0, -0.03333333333333333, -0.008333333333333304, 0.0, 0.5, 0.0, 0.175, 0.07327473958333336, -0.31333333333333335, 0.03333333333333333, -0.525, 0.0, 0.0, -0.8500000000000001, 0.13636363636363635, -0.07812499999999999, 0.0, 0.0, 0.0, 0.15000000000000002, 0.0, 0.4, 0.0, 0.7, 0.0, 0.0, 0.25, -0.019047619047619042, -0.03854166666666666, 0.10476190476190476, -0.4671875, -0.0045454545454545565, 0.04999999999999999, 0.4, 0.08888888888888886, 0.01666666666666667, 0.5, -0.16666666666666666, 0.8, 0.0, 0.0, 0.0, -0.14666666666666667, -0.14444444444444446, -0.16666666666666666, 0.0, 0.275, -0.13999999999999999, -0.7999999999999999, 0.9765625, 0.0, 0.0, 0.0, -0.3055555555555555, 0.0, 0.025, 0.0, -0.05, 0.31666666666666665, 0.0, 0.13333333333333333, -0.22499999999999998, 0.0, 0.6, -0.19722222222222222, 0.0, 0.0, 0.0, -0.06499999999999999, -0.8, 0.6953125, 0.47142857142857136, 0.09523809523809523, 0.6, 0.5, 5.551115123125783e-17, 0.13636363636363635, 0.0, 0.2, -0.25555555555555554, 0.0, 0.13636363636363635, -0.006060606060606061, -0.08333333333333333, 0.25625, 0.0, 0.0, 0.11666666666666668, -0.16666666666666666, 0.4, -0.134375, 0.0, 0.0, 0.0, 0.0, 0.0, 0.35, 0.0, -0.16666666666666666, 0.0, 0.5, -0.045277777777777785, 0.2, -0.32222222222222224, -0.265, 0.1, 0.0, 0.12727272727272726, -0.23333333333333334, 0.04107142857142856, -0.21964285714285717, 0.0, -0.1277777777777778, 0.08666666666666667, 0.0, -0.16666666666666666, 0.0, 0.0, 0.0, -0.05, 0.0, 0.0, 0.5, -0.08333333333333333, -0.06944444444444443, -0.16666666666666666, -0.5, 0.1953125, 0.0, 0.05, 0.0, 0.0, -0.15, 0.0, 0.25, 0.0, 0.0, 0.15656565656565657, -0.0238095238095238, 0.0, -0.19166666666666665, -0.17987012987012987, 0.13636363636363635, 0.0, -0.05555555555555555, 0.0, 0.0, 0.625, 0.0, 0.27777777777777773, 0.78125, -0.11666666666666665, -0.2627604166666666, -0.08333333333333333, 0.2142857142857143, 0.5, 0.16666666666666669, 0.0, 0.5625, -0.075, 0.0, -0.08888888888888886, -0.05, 0.03333333333333334, -0.7999999999999999, 0.0, -0.1, 0.0, -0.12222222222222223, -0.2406746031746032, 0.1, 0.25, 0.0, 0.0, -0.16666666666666666, -0.3125, 0.0, 0.0, 0.25, 0.2857142857142857, 0.05, -0.2, 0.0, 0.0, 0.02777777777777778, 0.0, 0.011111111111111112, 0.325, 0.16666666666666669, 0.0, 0.0, -0.20833333333333331, 0.03333333333333333, -0.23076923076923078, 0.08333333333333333, 0.0, 0.22000000000000003, 0.11666666666666668, -0.16666666666666666, 0.3333333333333333, 0.5, 0.0, 0.18611111111111112, 0.1, -0.125, 0.015151515151515147, 0.25, -0.1625, 0.05, 0.0, -0.024999999999999994, 0.3181818181818182, 0.18750000000000003, 0.0, -0.16666666666666666, 0.10208333333333333, 0.0, 0.0, -0.6999999999999998, 0.06666666666666668, -0.20000000000000004, -0.1065340909090909, 0.0, -0.20833333333333331, 0.0, -0.13888888888888887, 0.125, -0.10416666666666666, 0.35, 0.03416666666666668, 0.5416666666666667, 0.0, 0.35, -0.24583333333333335, 0.0, 0.0, -0.4, 0.55, 0.20000000000000004, 0.0, -0.34609375000000003, 0.4785714285714286, 0.0, -0.15555555555555556, 1.0, 0.0, -0.23125, -0.16666666666666666, -0.41666666666666663, 0.0, -0.08972222222222222, 0.23333333333333336, 0.025260416666666674, 0.13636363636363635, 0.65, 0.0, 0.0, 0.0, 0.13573232323232323, 0.13645833333333335, -0.039999999999999966, 0.0, 0.0, 0.5, 0.0, 0.18125, 0.0, -0.05, 0.32999999999999996, 0.0, -0.16666666666666666, 0.4375, 0.0, -0.4416666666666667, -0.34027777777777773, 0.0, 0.25, 0.4222222222222222, 0.19999999999999998, 0.625, 0.0, -0.07142857142857142, 1.0, 0.175, 0.075, -0.041666666666666664, 0.16666666666666669, 0.0, -0.055555555555555546, 0.0, -0.16666666666666666, -0.5, 0.0, 0.05, 0.1, 0.5, 0.3125, -0.03333333333333333, -0.01333333333333333, 0.0, 0.16666666666666666, 0.0, 0.09999999999999999, -0.02588383838383838, 0.0, 0.0, -0.08333333333333333, -0.07777777777777777, 0.0, 0.0, 0.425, -0.16666666666666666, 0.0, 0.04166666666666668, -0.33999999999999997, -0.033333333333333354, -0.16666666666666666, -0.012500000000000004, 0.11238095238095239, 0.0, 0.4000000000000001, 0.0, -0.008974358974358979, 0.8, -0.5, -0.15555555555555559, -0.06818181818181818, 0.0, 0.0, -0.4, 0.0, 0.0, 0.07142857142857142, -0.275, 0.0, 0.0, 0.15000000000000002, 0.16666666666666666, 0.5, 0.011309523809523802, 0.0, -0.08333333333333333, 0.0, 0.09687499999999999, 0.04999999999999999, 0.0, -0.055555555555555546, 0.30833333333333335, -0.038095238095238106, -0.024999999999999994, 0.5, -0.09999999999999999, 0.024999999999999988, -0.3, 0.042857142857142844, 0.09375, -0.125, -0.04375, 0.0, -0.04375, 0.6416666666666666, -0.08333333333333333, 0.65625, -0.15000000000000002, -0.2, -0.007142857142857145, 0.0, 0.05, 0.0, 0.1375, 0.25, 0.0, 0.0, 0.3, -0.022222222222222216, 0.18125, 0.0, 0.0, 0.0, -0.6, 0.05047619047619047, 0.0, -0.46875, 0.0, 0.7, 0.09999999999999999, 0.0, 0.0, 0.0, -0.1875, -0.07166666666666667, 0.25, 0.0, 0.06510416666666667, 0.0, 0.325, 0.13952380952380955, 0.0, 0.0, -0.3363095238095238, -0.2916666666666667, 0.0, -0.39999999999999997, 0.35, -0.16666666666666666, 0.0, 0.13333333333333333, -0.15555555555555556, 0.6, 0.0, 0.125, -0.3111111111111111, 0.036666666666666625, -0.056666666666666664, 0.0, -0.525, 0.2222222222222222, -0.018750000000000003, 0.0, 0.35, 0.0018939393939393923, 0.0, 0.0, 0.24305555555555558, 0.25, 0.0, 0.9765625, 0.17500000000000002, 0.0, -0.1547979797979798, 0.0, 0.0, 0.0, 0.31250000000000006, -0.10000000000000002, 0.0, 0.0, 0.0, -0.5, -0.08333333333333333, 0.0, -0.020000000000000007, 0.375, 0.375, 0.0, 0.0, 0.0, 0.2333333333333333, -0.125, 0.0, 0.0, 0.0, 0.0, -0.125, 0.15625, 0.0, 0.0, 0.14285714285714285, -0.22000000000000003, -0.08333333333333327, 0.5, 0.5, -0.2833333333333333, 0.037500000000000006, 0.0, -0.13333333333333333, 0.0, 0.0, -0.035, 0.0, -0.5, -0.1, 0.0, 0.325, -0.2652777777777778, 0.0, 0.2, 0.0, 0.9, 0.0, -0.35, 0.5, 0.05, 0.037500000000000006, 0.0, -0.25, 0.19999999999999998, 0.36488095238095236, -0.5, -0.16666666666666666, 0.0, 0.024999999999999994, 0.15625, 0.19285714285714284, -0.13208333333333327, 0.08833333333333335, -0.1, 0.0, 0.5, 0.15, -0.375, -0.07708333333333332, 0.0, 0.55, 0.0, 0.3780681818181818, 0.26717948717948714, -0.03333333333333332, 0.25, -0.4, 0.0, 0.0, 0.09999999999999999, -0.21666666666666667, -0.6000000000000001, 0.0, 0.0, 0.0, -0.1111111111111111, 0.07499999999999998, 0.17708333333333331, 0.0, 0.0, -0.12083333333333332, -0.4, 0.5, 0.5, 0.0, -1.0, -0.26666666666666666, -0.12063492063492064, 0.25, 0.0, 0.4, -0.20000000000000004, 0.16666666666666669, 0.08125, -0.18055555555555555, -0.8928571428571429, 0.135, 0.0, 0.0, 0.0, -0.125, 0.0, -0.2, 0.0, -0.375, 0.25, 0.0, -0.3, 0.1, 0.5, -0.18055555555555555, -0.021428571428571425, 0.0, -0.16666666666666666, -0.0875, 0.1, -0.16666666666666666, 0.0, -0.2388888888888889, 0.1130952380952381, -0.22847222222222222, 0.1, -0.025000000000000005, 0.01428571428571429, -0.16, -0.09166666666666667, 0.024999999999999967, 0.0, -0.3, -0.007142857142857145, -0.625, 0.5, 0.0, 0.14166666666666666, 0.0, 0.0, 0.0, 0.08650793650793652, 0.03749999999999998, -0.4, -0.8, 0.0, 0.0, 0.019642857142857136, -0.1875, 0.0, -0.16666666666666666, 0.15, -0.8, 0.0, -0.025000000000000022, -0.5, 0.0, 0.375, 0.0, -0.06565656565656565, 0.17500000000000002, 0.16444444444444448, 0.0, 0.0, 0.5, 0.25, -0.11083333333333334, 0.0, -0.039285714285714285, -0.06666666666666667, -0.10555555555555558, -0.24305555555555558, 0.5, -0.2722222222222222, -0.08333333333333333, 0.0, -0.26606060606060605, 0.012500000000000011, 0.0, 0.0, -0.15625, 0.0, -0.039999999999999994, 0.43333333333333335, -1.0, 0.13636363636363635, 0.0, 0.5, -0.2, 0.7, 0.5, 0.0841269841269841, -0.05, 0.25, 0.0, 0.0, 0.0, 0.0, -0.16666666666666666, 0.0, -0.24045138888888884, -0.15555555555555559, 0.13636363636363635, 0.0, 0.016666666666666666, -0.5062500000000001, 0.0, -0.1851851851851852, 0.0, -0.25, 0.25, 0.5, 0.25, -0.3238095238095238, 0.0, -0.3333333333333333, -0.2375, 0.2, 0.375, -0.05, 0.29444444444444445, -0.16666666666666666, 0.8, 0.2669642857142857, -0.1, 0.0, 0.18229166666666669, 0.16666666666666666, 0.016666666666666666, 0.0, -0.13333333333333333, -0.1238095238095238, 0.29583333333333334, 0.14666666666666667, 0.025, -0.30000000000000004, -0.35, 0.05, 0.0, -0.7125, 0.175, 0.0, 0.10833333333333334, -0.16666666666666666, 0.0, 0.0, 0.13636363636363635, -0.004166666666666662, 0.16666666666666666, -0.47500000000000003, 0.26666666666666666, -0.4, 0.0, 0.0, 0.390625, 0.0, 0.125, 0.3, 0.4447916666666667, -0.16666666666666669, 0.0, 0.14333333333333334, -0.2, -0.20000000000000004, -0.24, 0.0, 0.25, -0.16666666666666666, 0.0, 0.25, -0.0619047619047619, -0.5999999999999999, 0.0, -0.1375, 0.06818181818181818, 0.0, 0.5, -0.23214285714285715, 0.0, 0.0, -0.3125, 0.22499999999999998, -0.55, 0.25, 0.2857142857142857, 0.0, 0.0, -0.025000000000000022, 0.5, 0.09999999999999999, 0.07499999999999998, -0.585367431640625, 0.0, 0.026250000000000002, 0.11666666666666667, 0.0, -0.42500000000000004, 0.0, -0.14479166666666665, 0.5, -0.1, -0.2547619047619048, 0.25, -0.4, 0.0, 0.0, 0.0, 0.2857142857142857, -0.32552083333333326, 0.2916666666666667, -0.3, 0.4, 0.5, 0.5, 0.0, -0.15, 0.0, -0.15555555555555559, -0.09166666666666667, 0.5, -0.10833333333333334, -0.44548611111111114, 0.25, 0.0, 0.15714285714285714, 0.0, 0.17500000000000002, 0.16562500000000002, 0.0, 0.25, -0.059999999999999984, -0.06000000000000001, 0.0, -0.08333333333333333, 0.19318181818181818, 0.0, 0.0, -0.16666666666666666, 0.09444444444444444, -0.26666666666666666, 0.0, 0.2, 0.0, -0.16666666666666666, -0.08333333333333333, 0.25, 0.25, -0.75, -0.11666666666666668, 0.3, 0.0, 0.0, 0.0, 0.11005291005291003, -0.26666666666666666, -0.19404761904761905, -0.17777777777777776, 0.20833333333333334, -0.3333333333333333, 0.0, 0.0, -0.16666666666666666, -0.05555555555555555, 0.02380952380952381, 0.2, 0.4, -0.2, 0.1625, 0.0, -0.19999999999999998, 0.5, 0.225, 0.0, 0.0, 0.275, 0.0, 0.0, -0.06666666666666667, 0.0, -0.41111111111111115, 0.04971139971139973, 0.11190476190476191, 0.16666666666666666, 0.1, 0.04999999999999999, 0.016666666666666646, 0.225, 0.2, -0.7, -0.4, 0.16666666666666669, 0.013467261904761912, -0.30000000000000004, 0.0, 0.016666666666666673, 0.125, 0.5, 0.0, 0.31666666666666665, 0.0, -0.5, 0.19128205128205128, 0.32499999999999996, 0.0, 0.43562500000000004, 0.125, -0.026393939393939404, -0.19999999999999998, 0.0, 0.14444444444444446, -0.05833333333333334, 0.2, 0.04999999999999999, 0.0, 0.19861111111111113, 0.0, -0.024999999999999994, -0.5083333333333333, 0.0, 0.5, -0.15, 0.375, 0.25, 0.35, 0.0, -0.25, 0.11481481481481481, 0.06666666666666665, 0.0, -0.15, 0.18727272727272729, 0.0, 0.15, 0.0, 0.06666666666666667, -0.6, 0.0, 0.0, 0.0, -0.20833333333333331, 0.6, 0.19999999999999998, 0.008333333333333338, -0.5, -0.1952380952380952, 0.125, 0.0, -0.38518518518518524, -0.16666666666666666, 0.2, 0.0, 0.0, 0.9, 0.32, -0.4, 0.38749999999999996, -0.11458333333333333, -0.10902777777777778, 0.0, -1.0, -0.0008333333333333387, 0.0, 0.0, 0.0, 0.26666666666666666, 0.0, 0.0, 0.0, 0.125, 0.20999999999999996, 0.5, -0.75, 0.0, 0.0, 0.13958333333333334, 0.0, 0.19444444444444442, 0.0, 0.08333333333333334, 0.0, 0.05, -0.14166666666666666, 0.0, 0.0, 0.0, 0.02031250000000001, 0.0, 0.0, -0.4, 0.0, 0.3, 0.0, 0.36875, 0.25, 0.875, 0.0, 0.4333333333333333, -0.1, 0.0, 0.5, 0.625, 0.020833333333333336, 0.3931640625, 0.125, -0.16666666666666666, 0.3499999999999999, -0.5, 0.0, -0.7, 0.0, -1.0, -0.16666666666666666, 0.125, 0.0, 0.0, -0.2, -0.125, -0.08333333333333333, 0.45, 0.85, -0.4, 0.2041666666666667, 0.0, 0.0, -0.20833333333333334, 0.0, -0.08333333333333333, 0.18333333333333332, 0.0, 0.0, 0.0, -0.1875, 0.0, 0.85, 0.0, 0.0, 0.0, -0.03333333333333335, 1.0, 0.07443181818181817, 0.0, 0.390625, 0.16666666666666669, 0.0, 0.25, 0.39285714285714285, 0.0, 0.0, 0.0, 0.10634920634920635, -0.625, -0.22444444444444445, -0.16666666666666666, 0.0, 0.25, 0.0, -0.1952380952380952, 0.0, -0.2, 0.26666666666666666, 0.0, 0.0, -0.5, 0.0, 0.0, 0.0, 0.0, 0.24285714285714285, 0.0, 0.0, -0.16666666666666666, 0.2857142857142857, 0.0, 0.425, 0.2928571428571428, 0.0, 0.0, 0.625, -0.16666666666666666, 0.3333333333333333, -0.04999999999999999, 0.24850852272727275, 0.0, 0.0, 0.0, -0.04999999999999999, 0.0, 0.027777777777777787, 0.0, 0.0, -0.16666666666666666, 0.5, -0.48125, 0.0, 0.0, 0.5, 0.08888888888888886, 0.5, 0.0, 0.18333333333333332, 0.0, 0.10681818181818181, -0.16666666666666666, 0.0, -0.05, 0.0, 0.022222222222222237, 0.0, -0.10416666666666666, 0.042857142857142844, 0.0, -0.07333333333333333, 0.0, 0.0, 0.0, -0.0888888888888889, 0.0, -0.20833333333333331, 0.0, 0.0, 0.5, 0.85, 0.0, 0.09107142857142857, -0.26041666666666663, 0.03333333333333333, -0.7, 0.0, 0.09999999999999999, 0.0, -0.08333333333333333, 0.03, 0.0, -0.16666666666666666, 0.0, 0.390625, 0.0, -0.4, 0.026666666666666665, 0.0, -0.5, 0.0, -0.12152777777777779, -0.2, 0.0, 0.0, -0.11666666666666667, 0.0, 0.25, 0.0, 0.03571428571428571, 0.0, 0.6, 0.13999999999999999, 0.0, 0.0, -0.033333333333333326, 1.0, -0.1, 0.0, 0.29444444444444445, 0.0, 0.0, 0.0, 0.0, 0.0, 0.0, 0.0, 0.17857142857142858, 0.0, 0.0, 0.3, 0.0, 0.0, 0.1, 0.3625, 0.25, 1.0, -0.03333333333333332, 0.0, -0.3, 0.05, 0.5, 0.0, 0.0, 0.0, 0.033333333333333326, 0.0279017857142857, 0.13, 0.11333333333333333, 0.0, 0.0, 0.4000000000000001, 0.0, -0.46249999999999997, -0.375, 0.0, 0.23611111111111108, 0.25, 0.0, 0.0, -0.41666666666666663, 0.0, -0.16666666666666666, -0.16666666666666666, 0.0, 0.35, 0.0, 0.5, -1.0, -0.15000000000000002, 0.5, 0.0, 0.0, -0.125, 0.0, 0.0, 0.4765625, 0.0, 0.0, 0.08253968253968254, -0.4124999999999999, 0.0, 0.10625, 0.01785714285714285, 0.0, 0.0, 0.0, -0.16666666666666666, 0.21428571428571427, 0.0, 0.0, 0.09523809523809523, -0.21666666666666667, -0.08333333333333333, 0.0, 0.0, -0.07500000000000001, 0.15000000000000002, 0.7333333333333333, -0.2625, -0.2, -0.25, 0.0, 0.0, -0.16666666666666666, -0.35000000000000003, 0.18888888888888888, 0.18, -0.16666666666666666, 0.0, -0.55, 0.4444444444444444, 0.0, -0.16111111111111112, 0.0, -0.16666666666666666, -0.06444444444444444, -0.03333333333333333, 0.25, 0.31666666666666665, 0.0, 0.0, 0.20833333333333334, -0.09649572649572649, 0.244140625, 0.07777777777777778, -0.15555555555555556, -0.2833333333333334, 0.0, -0.7999999999999999, -0.35, -0.029629629629629624, 0.0, 0.0, 0.0, 0.525, -0.16666666666666666, 0.10714285714285714, 0.0, 0.0, 0.1, -0.3, 0.1, 0.36666666666666664, 0.0, 0.0, -0.02500000000000001, -0.07777777777777779, 0.006944444444444443, 0.0, 0.25, 0.0, -0.48253968253968255, 0.0, 0.42552083333333335, 0.0, 0.0, 0.2, -0.2, 0.0, 0.0, -0.2125, 0.0, -0.1, 0.0, 0.0, -0.20000000000000004, 0.0, -0.041666666666666664, 0.2333333333333333, 0.85, 0.0, 0.3, 0.2333333333333333, -0.8928571428571429, 0.25, -0.10624999999999998, -0.11875000000000001, 0.0, 0.0, 0.0, 0.0, 0.0, 0.8, 1.0, 0.3111111111111111, 0.0, 0.5, 0.19999999999999998, 0.0, 0.425, 0.08333333333333334, 0.05, -0.15555555555555559, 0.125, 0.015625, -0.09999999999999998, 0.0, 0.04583333333333332, -0.03009259259259259, 0.09062499999999998, -0.3041666666666667, 0.12, 0.0, -0.35625, -0.4, -0.31666666666666665, -0.025, 0.0, 0.30416666666666664, 0.19999999999999998, 0.05, -0.10833333333333334, 0.0, 0.0, 0.5, -0.03333333333333333, 0.14930555555555555, 0.14666666666666667, 0.0, 0.375, 0.13636363636363635, 0.0, 0.0, -0.6, -0.2, 0.0, -0.07500000000000001, -0.3333333333333333, 0.0, 0.1, 1.0, 0.0, 0.26666666666666666, -0.05, 0.0, 0.0, -0.09166666666666665, -0.030555555555555558, 0.35, 0.0, 0.0, 0.0, 0.0, 0.1, 0.0, 0.5, -0.25, 0.26666666666666666, 0.0, 0.7, 0.11666666666666665, 0.0, 0.13636363636363635, 0.0, 0.0, 0.31666666666666665, 0.2, -0.16666666666666666, 0.5, 0.0, 0.2, -0.05, 0.39285714285714285, 0.0, -0.15555555555555559, -0.13333333333333333, 0.5, 0.5599999999999999, 0.0, 0.1232142857142857, 1.0, 0.0, 0.15, -0.16666666666666666, 0.0, -0.125, 0.11666666666666667, 0.12142857142857147, 0.10833333333333334, 0.0, 0.640625, 0.0, 0.0, 0.3571428571428571, 0.13055555555555556, -0.008333333333333331, 0.3452380952380952, 0.0, 0.0, 0.31562500000000004, 0.0, 0.15555555555555559, -0.1, -0.05714285714285714, 0.0, -0.06346153846153846, 0.075, 0.06875, 0.18611111111111112, 0.4, 0.5, 0.07083333333333336, 0.5, 0.35833333333333334, 0.08333333333333334, 0.0, 0.0, 0.0, 0.0, -0.07500000000000001, -0.25, 0.1, 0.5, -0.025000000000000022, 0.0, 0.0, 0.05909090909090908, -0.7142857142857143, -0.2, -0.02500000000000001, 0.3333333333333333, 0.0, 0.0, 0.5, -0.16666666666666666, 0.0, 0.0, -0.17777777777777778, 0.3666666666666667, 0.0, 0.2, -0.051851851851851864, 0.25, 0.12500000000000003, 0.5, 0.0, 0.475, 0.4, 0.0, -0.9, 0.11111111111111112, -0.3125, -0.09166666666666667, 0.13, 0.0, 0.2, -0.4375, 0.0666666666666667, 0.0, -0.5, 0.5, 0.5, -0.16666666666666666, 0.13636363636363635, 0.26666666666666666, 0.0, 0.11481481481481481, -0.37777777777777777, -0.5, -0.1125, 0.0, 0.22619047619047616, 0.0, 0.3055555555555556, 0.11636904761904761, -0.07777777777777779, -0.06875, 0.154978354978355, 0.275, 0.0, -0.15555555555555559, -0.9, 0.11875, 0.2857142857142857, 0.0, 0.28125, 0.13392857142857142, 0.0, 0.16666666666666669, 0.0, 0.0, 0.06818181818181818, 0.0, 0.02777777777777778, 0.0, 0.5625, 0.125, 0.125, -0.08333333333333333, 0.08416666666666667, 0.08333333333333333, 0.0, 0.08611111111111111, 0.011111111111111118, -0.14166666666666666, -0.39999999999999997, 1.0, 0.0, -0.16666666666666666, 0.375, 0.14444444444444446, 0.0, 0.0, 0.17638888888888887, -0.15555555555555559, 0.0, -0.08333333333333333, -0.05, 0.5, -0.033333333333333326, 0.2, 0.0, -0.6, -0.06510416666666664, 0.24166666666666667, 0.1, 0.0, 0.2, 0.0, -0.3333333333333333, 0.78125, -0.03571428571428571, 0.25, 0.3, 0.0, 0.09027777777777779, 0.15, 0.5, 0.17777777777777778, 0.5, 0.05714285714285714, -0.0643939393939394, 0.0, 0.0, 0.0, 0.10000000000000002, 0.05238095238095238, 0.1, -0.07777777777777779, 0.09047619047619047, 0.46875, 0.05, 0.09722222222222222, 0.3, 0.3416666666666667, -0.14285714285714285, 0.15, -0.004761904761904782, -0.5, -0.15555555555555559, 0.0, 0.5, 0.0, 0.35714285714285715, 0.5, 0.25, 0.5, -0.04999999999999999, 0.8, -0.05555555555555555, -0.02666666666666666, 0.0, 0.325, -0.08333333333333333, -0.3, 0.0, -0.13999999999999999, 0.33999999999999997, 0.0, 0.0, -0.16111111111111112, 0.09999999999999998, 0.0, -0.225, 0.0, -0.25, -0.16666666666666666, 0.0, 0.0, -0.2, 0.0625, 0.0, 0.06818181818181818, 0.016666666666666666, -0.0326388888888889, 0.5, 0.0, 0.4, 0.0, 0.0, 0.0, 0.24375000000000002, 0.1, -0.75, 0.0, 0.0, 0.0, 0.13999999999999999, -0.65625, 0.0, 0.35, 0.03522727272727272, 0.0, 0.0, 0.0, 0.0, -0.3, 0.024999999999999994, 0.6, 1.0, -0.044444444444444446, 0.0, 0.0, -0.2, 0.5, 0.0, 0.25, -0.2, -0.35555555555555557, 0.29444444444444445, 0.0, 0.5, -0.6, 0.25937499999999997, 0.13636363636363635, 0.02500000000000001, 1.0, 0.2, -0.16666666666666666, -0.26041666666666663, 0.0, -0.16527777777777777, 0.45, -0.013888888888888895, 0.0, 0.1, -0.07142857142857142, 0.0, 0.0, -0.25, 0.5, 0.26, -0.2534722222222222, 0.4166666666666667, 0.5, 0.0, -0.125, 0.0, 0.14444444444444443, 0.0, 0.35, 0.0, 0.48828125, 0.0, 0.0, 0.4388888888888889, 0.061111111111111116, 0.008333333333333331, 0.27999999999999997, 0.4375, 0.5, -0.3, -0.05333333333333333, -0.16666666666666666, 0.0, 0.03125, 0.3, -0.06275510204081633, 0.08854166666666666, 0.5, 0.375, 0.0, -0.07777777777777779, -0.03333333333333333, -0.07142857142857142, 0.5, 0.13333333333333333, 0.5, 0.0, 0.19166666666666668, 0.65625, -0.05555555555555555, 0.0, 0.0, 0.4, 0.020833333333333343, -0.07812499999999999, 0.1, -0.08888888888888889, 0.0, -0.07622354497354498, -0.16666666666666666, 0.5, 0.5, 0.5, 0.25, 0.11979166666666667, 0.7, -0.06458333333333333, 0.35, 0.0, 0.0, 0.35, 0.0, -0.16666666666666666, 0.5249999999999999, 0.0, 0.13194444444444445, -0.08333333333333333, 0.32857142857142857, 0.5, 0.675, 0.45999999999999996, 0.0, 0.5, 0.3333333333333333, 0.0, 0.4, 0.16666666666666666, 0.0, 0.34500000000000003, 0.0, 0.016666666666666666, -0.3125, 0.0, 0.0, 0.35, -0.35555555555555557, 0.1, 0.275, -0.030555555555555558, 0.0625, 0.05833333333333334, 0.0, 0.5, 0.21212121212121213, 0.05000000000000001, 0.43, -0.20833333333333331, 0.0, -0.15625, 0.525, -0.25, -0.16666666666666666, 0.5, 0.15625, -0.25, -0.7, 0.0, 0.5, 0.0, 0.0, 0.0, -0.16, 0.0, 0.35, -0.07333333333333333, 0.4, 0.244140625, -0.1, 0.35, -0.1888888888888889, 0.0, 0.5, -0.025, -0.21999999999999997, 0.0, 0.0, 0.1486111111111111, 0.4, 0.005681818181818177, -0.3, 0.0, 0.25, 0.0, 0.13, 0.5, 0.005681818181818177, -0.125, 0.0, -0.3125, 0.5, -0.1111111111111111, 0.475, 0.5, 0.24545454545454545, 0.5, 0.0, 0.0, 0.0, 0.6103515625, 0.28125, 0.0, -1.0, -0.25, 0.0, 0.3, 0.18928571428571428, 0.16190476190476188, 0.0, 0.34375, -0.15000000000000002, 0.0, 0.3226136363636363, 0.3, 0.0, -0.16666666666666666, 0.25, 0.0, -0.125, 0.0, 0.55, 0.0, 0.5, 0.7104166666666667, 0.8, 0.0, -0.378125, -0.15555555555555559, 0.05, -0.1, -0.1, 0.0, 0.0, 0.0, -0.1, 0.033333333333333326, 0.0, 0.0, -0.5666666666666667, 0.5, -0.2, 0.3125, 0.0, -0.16666666666666666, 0.0, 0.13712121212121212, 0.5, 0.171875, -0.25, -0.06666666666666667, -0.033333333333333326, 0.03333333333333333, 0.0, 0.23611111111111113, 0.0, 0.172, -0.22500000000000003, 0.3416666666666667, 0.03060606060606061, 0.0, -0.0888888888888889, -0.16666666666666666, -0.16363636363636364, -0.2, -0.6, 0.5, 0.5, 0.5, 0.35, 0.4464285714285714, 0.125, 0.0, 0.0, -0.5, 0.0, -1.0, 0.21428571428571427, 0.0, 0.4, 0.10000000000000002, -0.05479797979797982, 0.025, 0.09166666666666665, 0.8, 0.012499999999999997, 0.06666666666666667, -0.033333333333333326, -0.1, 0.0, 0.0, 0.03333333333333333, -0.25, -0.3433333333333334, 0.6666666666666666, -0.16666666666666666, 0.13333333333333333, 0.0, 0.55, 0.0, 0.06666666666666667, 0.6964285714285714, 0.0, 0.07878787878787878, -0.01666666666666668, 0.13636363636363635, 0.65, 0.48333333333333334, 0.43333333333333335, -0.6, -0.11458333333333331, 0.31666666666666665, -0.011631944444444445, -0.003333333333333327, -0.08888888888888889, 0.13636363636363635, 0.0, 0.125, 0.0, 0.43333333333333335, -0.033333333333333326, 0.0, 0.0, -0.125, -0.225, -0.16666666666666666, 0.03333333333333333, 0.390625, 0.275, 0.14814814814814817, -0.5, 0.0, 0.025694444444444447, 0.0, 0.5, 0.0, 0.0, 0.0, 0.125, 0.1, 0.0, 0.0, 0.027777777777777752, 0.4, 0.4208333333333334, -0.020833333333333332, 0.35000000000000003, 0.0, 0.225, 0.0, -0.16145833333333331, 0.14285714285714285, 0.25, -0.75, 0.0, 0.2125, 0.13636363636363635, -0.07500000000000001, 0.4, -0.07500000000000001, -0.2, 0.0, 0.11212121212121212, 0.0, -0.3, 0.2333333333333333, -0.033333333333333326, 0.0, 0.0, 0.0, 0.3125, -0.21851851851851853, 0.18333333333333335, 0.0, 0.0, 0.25, 0.0, 0.6, -0.16666666666666666, -0.025000000000000022, 0.0, 0.5666666666666668, 0.1, 0.0, 0.0, 0.0, 0.31423611111111116, 0.35, 0.0, 0.5, 0.0, 0.0, 0.4375, -0.10740740740740741, 0.01666666666666667, 0.0, 0.024999999999999994, 0.3333333333333333, 0.0, 0.0066666666666666706, 0.11481481481481481, 0.475, -0.16666666666666666, 0.13333333333333333, 0.0, 0.0, 0.0, -0.05555555555555555, 0.25, 0.0, 0.2875, -0.01428571428571429, 0.14583333333333334, 0.25, 0.0, 0.13636363636363635, 0.0, 0.0, 0.6, 0.08333333333333333, 0.0, 0.0, 0.0, 0.25, 0.0, 0.2, 0.0, -0.16666666666666666, 0.2857142857142857, 0.4, 0.0, 0.0, -0.4, 0.0, 0.0, -0.25, 0.5, -0.15, -0.16666666666666666, 0.23333333333333334, 0.5, 0.8125, -0.12222222222222223, 0.1, 0.14285714285714285, 0.0, -0.15555555555555559, 0.0, 0.0, 0.375, 0.16499999999999998, 0.1, 0.0, 0.0, 0.0, 0.5, 0.15625, 0.0, 0.325, 0.0, -1.0, 0.13958333333333334, 0.0, 0.0, 0.25, 0.08522727272727272, 0.325, 0.0, 0.0, 0.0, 0.13636363636363635, 0.3197619047619048, -0.15555555555555559, 0.25, 0.0, 0.0, 0.16666666666666669, 0.0, -0.4000000000000001, 0.0, 0.0, 0.25, 0.390625, 0.38, -0.1, -0.21354166666666663, 0.0, 0.35, 0.0, -0.12638888888888888, 0.0, -0.16666666666666666, 0.3333333333333333, -0.5, 0.0, 0.3333333333333333, 0.0, 0.5, 0.07142857142857142, 0.0, 0.0, 0.0, 0.0, 0.07777777777777779, -0.75, 0.16666666666666666, 0.3, 0.05, 0.0, -0.125, 0.056666666666666664, 0.0, -0.06547619047619047, 0.0, -0.04791666666666666, 0.25, 0.0, 0.04166666666666667, 0.0, 0.0, 0.0, 0.0, 0.5, 0.0, 0.6, 0.0, 0.45, 0.0, 0.5, 0.5, 0.0, 0.15, 0.0, 0.0, -0.05, 0.0, 0.0, 0.051388888888888894, 0.5, -0.3333333333333333, 0.0, 0.08333333333333333, 0.0, -0.01666666666666667, 0.0, 0.0, -0.2604166666666667, -0.05, 0.35000000000000003, 0.0, 0.37878787878787873, 0.0, -0.05555555555555556, -0.16666666666666666, 0.0, 0.21212121212121213, 0.5, -0.08333333333333333, 0.0, 0.0, -0.05208333333333333, -0.05, 0.05000000000000001, 0.04166666666666667, -0.033333333333333354, 0.0, -0.0625, 0.05000000000000002, 0.0, -0.2, 0.625, 0.0, 0.5, 0.0888888888888889, 0.041666666666666664, 0.0, 0.0, -0.15, -0.24999999999999992, -0.125, -0.16666666666666666, -0.26041666666666663, 0.0, 0.03968253968253968, 0.3, -0.25, 0.0, -0.3833333333333333, 0.0, 0.0, 0.0, 0.0, 0.0, 0.0, 0.5, 0.0, -0.32222222222222224, 0.2333333333333333, 0.0, -0.125, 0.0, 0.0, 0.42000000000000004, 0.0, 0.0, -0.3283333333333333, 0.0, -0.8, -0.015972222222222228, 0.0, -0.08333333333333333, 0.13636363636363635, 0.16, 0.0, 0.2375, 0.2777777777777778, 0.0, -0.05, 0.0, -0.25, 0.028787878787878782, 0.5, 0.0, 0.18333333333333335, -0.03125, 0.0, 0.5, 0.3333333333333333, -0.25, 0.2520833333333333, 0.0, 0.0, 0.08333333333333333, 0.5, 0.26875, 0.1, 0.09943181818181818, 0.2333333333333333, 0.0, 0.16944444444444448, 0.0, -0.16666666666666666, -0.16666666666666666, 0.5, -0.09066602918836804, 0.0, 0.85, 0.625, 0.5, 0.04166666666666667, 0.0, 0.2375, 0.0, 0.26249999999999996, -0.15555555555555559, 0.34285714285714286, 0.0, 0.5, 0.5277777777777778, 0.3, -0.0275297619047619, 0.0, -0.041666666666666664, 0.0, 0.0, 0.0, 0.0, -1.0, 1.0, -0.16666666666666666, -0.13333333333333333, 0.0, 0.13125, 0.2333333333333333, 0.38060606060606056, 0.0, 0.0, 0.0, 0.0, 0.0, 0.0, 0.6000000000000001, 0.0, -0.4, 0.35000000000000003, 0.0, 0.1, 0.22282828282828282, 0.0, 0.0, -0.16666666666666666, 0.0, 0.0, 0.0, 0.2738095238095238, -0.030000000000000006, 0.0, 0.0, 0.12666666666666665, 0.26666666666666666, 0.05555555555555557, -0.5297619047619048, 0.3, 0.0, 0.03333333333333333, 0.0788888888888889, -0.13888888888888887, -0.18333333333333335, 0.0, -0.16666666666666666, 0.2333333333333333, 0.0, 0.0, 0.03968253968253968, 0.0, 0.4000000000000001, -0.16666666666666666, 0.0, -0.16666666666666666, 0.26666666666666666, 0.0, 0.0099206349206349, 0.0, -0.28333333333333327, 0.5, -0.08333333333333333, 0.0, 0.4, -0.1111111111111111, 0.4, 0.0, 0.5, 0.016666666666666666, 0.1411111111111111, -0.2, 0.0, 0.4, 0.020833333333333332, 0.3333333333333333, -0.375, -0.008333333333333326, 0.0, 0.10714285714285714, -0.05555555555555555, 0.5000000000000001, -0.14583333333333331, 0.5, 0.0, 0.13636363636363635, -0.7, 0.18333333333333335, 0.0, 0.0, -0.13333333333333333, 0.0, 0.0, 0.16666666666666666, 0.0, 0.3, 0.04166666666666667, -0.2380952380952381, 0.32499999999999996, 0.0, 0.0, -0.7, 0.10833333333333334, -0.08333333333333333, -0.3333333333333333, 0.0, -0.7, 0.0, -0.18181818181818182, 0.42857142857142855, 0.0, -0.19444444444444448, 0.3, 0.0, 0.0, 0.0, 0.0, 0.8, -0.625, 0.1902777777777778, 0.06818181818181818, -0.038888888888888896, -0.65, 0.45, 0.0, -0.16666666666666666, 0.0, 0.7500000000000001, 0.0, 0.0, 0.125, 0.5, 0.0, -0.2, 0.5, 0.042857142857142864, 0.5, 0.25, 0.0, 0.0, 0.0, 0.0, 0.0, 0.25, 0.0, -0.16666666666666666, 0.1, 0.4, 0.0, 0.3666666666666667, 0.0, 0.0, -0.16666666666666666, 0.3, -0.390625, 0.0, 0.125, 0.0, -0.07777777777777779, 0.0, 0.5, 0.25, -0.125, -0.325, 0.22999999999999998, 0.0, 0.0, 0.0, 0.2361111111111111, -0.125, 0.4875, 0.0, 0.244140625, 0.0, 0.0, 1.0, 0.25, 0.0, 0.5, 0.3333333333333333, 0.08484848484848484, -0.25, 0.04999999999999999, 0.0, -0.040740740740740744, 0.0, -0.0361111111111111, 0.0, 0.1875, 0.8, 0.12694614955357142, 0.2833333333333334, 0.0, -0.048842592592592604, 0.0, 0.35000000000000003, -0.08333333333333333, 0.0, 0.0, 0.0, 0.06818181818181818, 0.0, 0.0, 0.0, 0.0, 0.175, 0.0, 0.0, 0.0, -0.1, 0.024999999999999994, 0.0, 0.0, 0.6000000000000001, 0.5, 0.17222222222222222, -0.25, 0.26666666666666666, 0.4, 0.26666666666666666, 0.0, 0.0, -0.1111111111111111, 6.938893903907228e-18, 0.375, 0.35, 0.0, 0.0, 0.5, 0.4, 0.2857142857142857, -0.16666666666666666, 0.5166666666666667, 0.12777777777777777, 0.14285714285714285, 0.033333333333333326, 0.0, 0.0, -0.07142857142857142, 0.1, 0.25, 0.5, 0.6666666666666666, 0.175, -0.16666666666666666, 0.13636363636363635, 0.275, -0.2, -0.08333333333333333, -0.24583333333333332, 0.03333333333333333, -0.20833333333333331, 0.25, 0.4366666666666667, -0.16666666666666666, 0.03333333333333333, 0.0, -0.19444444444444442, -0.23750000000000004, 0.0, 0.04215625644197073, 0.0, -0.14444444444444446, 0.0, -0.203125, 0.0, -0.0625, 0.3888888888888889, 0.2, -0.16111111111111112, -0.044444444444444446, 0.0, 0.0, 0.0, -0.5, 0.4777777777777778, 0.0, 0.0, 0.14444444444444446, 0.445, 0.0, -0.10416666666666666, 0.0, 0.45000000000000007, 0.425, 0.19666666666666666, 0.2166666666666667, 0.0, 0.4333333333333333, 0.0, 0.0, -0.2, 0.41666666666666663, 0.0, -0.43333333333333335, 0.0, 0.14285714285714285, 0.0, 0.06818181818181818, 0.0, -0.07552083333333326, 0.02777777777777778, 0.0, 0.5, 0.0, 0.19999999999999998, 0.21428571428571427, 0.0, 0.03333333333333333, 0.2, -0.30000000000000004, 0.2714285714285714, 0.0, 0.30000000000000004, -0.16666666666666666, 0.0, 0.0, -0.075, 0.8, 0.2458888888888889, 0.0, 0.0, 0.0, 0.0, 0.125, 0.0, 0.7, 0.2, 0.0, 0.2790178571428571, 0.22083333333333335, 0.03928571428571431, 0.0, 0.0, 0.1, 0.0, 0.20833333333333334, -0.05, -0.16666666666666666, 0.8, 0.3375, 0.03333333333333333, 0.25, 0.2625, 0.5854166666666667, 0.32222222222222224, 0.0, 0.0, 0.5, 0.4375, 0.125, -0.78125, 0.0, 0.5, 0.1, 0.0, 0.0, 0.1111111111111111, 0.5, -0.13888888888888887, -0.03333333333333333, 0.0, 0.0, -0.15555555555555559, -0.012878787878787878, 0.09166666666666666, 0.55, 0.41818181818181815, 0.04166666666666667, 0.0, 1.0, -0.16666666666666666, 0.0, 0.0, 0.0, 0.23981481481481481, 0.0, 0.0, 0.0, 0.25, 0.0, -0.7, -0.05, -0.025, 0.0, -0.05, 0.0, -0.029761904761904767, 0.25, 0.0, 0.0, -0.7874999999999999, 0.0, 0.5, 0.0, 0.27714285714285714, 0.25, 0.0, 0.0, 0.0, -0.0625, 0.125, -0.25, -0.07142857142857142, 0.0, 0.8, 0.1561868686868687, 0.04244791666666667, 0.0, 0.0, 0.6875, 0.0, 0.25, -0.1, 0.0, 0.0, 0.0, 0.2, -0.6, 0.0, 0.45000000000000007, 0.55, 0.0, 0.2, -0.5, 0.0, 0.0, -0.19444444444444448, -0.7, -0.009375000000000003, 0.175, 0.0, 0.0, -0.05, 0.485, -0.1, 0.0, 0.05, 0.0, 0.18166666666666667, 0.0, 0.23106060606060605, 0.25, 0.5416666666666666, 0.0, -0.19791666666666669, 0.5859375, 0.15656565656565657, 0.0, 0.0, 0.0, 0.05, 0.15625, 0.0, -0.06145833333333332, 0.275, -0.35847981770833326, 0.0, 0.5777777777777778, 0.25, -0.30000000000000004, 0.38671875, -0.022222222222222216, 0.2, 0.625, 0.0, 0.8, 0.05, 0.13636363636363635, -0.06388888888888887, 0.35, 0.4666666666666667, 0.020000000000000004, 0.0, 0.8, -0.30000000000000004, 0.0, -0.009595959595959616, 0.016666666666666666, 0.043181818181818175, 0.43253968253968256, 0.39285714285714285, -0.022222222222222216, 0.125, -0.05555555555555555, 0.04722222222222221, 0.3333333333333333, 0.1, 0.08333333333333333, 0.0, 0.20833333333333334, -0.15555555555555559, -0.022222222222222216, -0.19444444444444445, -0.033333333333333326, 0.0, 0.0, 0.0, -1.0, 0.05, 0.39999999999999997, 0.0, 0.0, 0.0, 0.0, 0.43333333333333335, 0.016666666666666666, 0.2, 0.0, 0.0, -0.14444444444444446, 0.0, 0.0875, 0.430952380952381, -0.1625, 0.0, 0.14166666666666666, 0.4166666666666667, 0.0, 0.0, 0.0, 0.0, 0.0, 0.0, 0.0, 0.0, -0.55, 0.0, 1.0, 0.0, -0.16666666666666666, 0.0, 0.07764378478664193, 0.0, 0.25, 0.5, 0.0, 0.0875, -0.125, -0.3, 0.0, 0.0, 0.08333333333333333, 0.0, 0.0, 0.0, -0.2916666666666667, 0.2130681818181818, 0.0, 0.0, -0.4375, 0.0, 0.0, 0.3111111111111111, -0.20000000000000004, -0.2833333333333333, -1.0, 0.0, 0.0, 0.18124999999999997, 0.0, 0.0, 0.0, 0.0, 0.8, -0.2, 0.0, -0.2, 0.4833333333333333, 0.0, 0.8, -0.4333333333333333, -0.08333333333333333, 0.08333333333333333, 0.37777777777777777, 0.5, -0.023333333333333324, 0.0, -0.17812499999999998, -0.2916666666666667, 0.3266666666666666, -0.9, -0.2, -0.2, 0.41818181818181815, -0.5, -0.16101866883116886, 0.2333333333333333, 0.06818181818181818, 0.10208333333333333, 0.0, 0.6, 0.0, -0.6999999999999998, 0.0, -0.08333333333333334, 0.0, -0.5, 0.0, 0.0, 0.7, 0.8, 0.3333333333333333, 0.08333333333333333, 0.0, 0.0, 0.0, 0.0, 0.0, 0.0, 0.6, -0.078125, 0.0, 0.2, 0.005681818181818177, -0.5, 0.018750000000000003, 0.0, 0.4666666666666666, 0.0, 0.0, 0.375, 0.0, 0.0, 0.0, 0.078125, 0.13636363636363635, -0.13333333333333333, 0.05208333333333333, 0.0, 0.13333333333333333, 0.0, 0.0, 0.7, 0.0, 0.5, 0.0, -0.6, -0.35, -0.25, 0.0, 0.09642857142857142, 0.0, 0.20000000000000007, 0.8, 0.13636363636363635, 0.15, -0.4, 1.0, 0.0, 0.3333333333333333, 0.5, 0.0, 0.0, -0.05, 0.8, 0.0, -0.13333333333333333, 0.175, 0.0, 0.0, 0.8125, 0.78125, -0.2, -0.25, 0.5, 0.0, 0.0, -0.05555555555555555, 0.55, 0.0, 0.009374999999999994, 0.16666666666666666, 0.8, 0.3508928571428571, 0.1, 0.7, 0.0, 0.7, -0.3333333333333333, 0.0, -1.0, -0.5, -0.022222222222222213, 0.5, 0.2, 0.13999999999999999, 0.2814814814814815, 0.0, -0.0833333333333333, 0.10000000000000002, -0.044897959183673466, 0.0, -0.033333333333333326, -0.05, 0.0, 0.0, 0.20625, 0.07142857142857142, 0.0, 0.5499999999999999, -0.2, 0.0, 0.0, 0.0, -0.08, -0.09230769230769231, -0.07083333333333333, 0.0, 0.3333333333333333, -0.5, -0.13333333333333333, 0.0, 0.29, -0.8571428571428572, 0.0, 0.0, 0.5625, 0.0, -0.08333333333333333, 0.0, 0.0, 0.06666666666666667, 0.041666666666666664, 0.2, 0.08333333333333337, 0.0, 0.0, -0.24375, 0.022222222222222213, -0.05555555555555555, -0.125, 0.0023148148148148064, 0.2857142857142857, 0.375, -0.125, 0.85, -0.1, 0.0, 0.5, -0.29791666666666666, 0.0, -0.1, 0.25, 0.13636363636363635, -0.3333333333333333, 0.45, 0.125, -0.08333333333333336, -0.103125, 0.0, 0.0, 0.8, 0.0, 0.5270833333333333, 0.06666666666666667, 0.0, -0.48333333333333334, 0.30000000000000004, 0.0, -0.4, 0.3571428571428571, 0.5, 0.006250000000000015, -0.20833333333333331, 0.5, 0.0, 0.0, 0.0, 0.13636363636363635, 0.4, 0.1, 0.0, 0.0, 0.5, 0.11249999999999999, 0.0, 0.0, 0.0, 0.0, 0.0, 0.13674242424242425, -0.30833333333333335, 0.0, 0.0, 0.3333333333333333, 0.6000000000000001, -0.1, 0.5, 0.0, -0.012499999999999997, -0.15, 0.0, 0.15666666666666668, 0.2, 0.1111111111111111, -0.25, 0.5, 0.0, -0.2222222222222222, -0.07142857142857142, 0.45, 0.13636363636363635, 0.0, 0.0, 0.03666666666666667, 0.5, 0.2015625, 0.0, 0.0, -0.08787878787878789, -0.2, 0.4770833333333333, 0.19666666666666668, 0.06818181818181818, 0.5714285714285714, -0.2, 0.07250000000000001, 0.3166666666666667, 0.5, 0.078125, 1.0, 0.0, -0.1777777777777778, 0.0, -0.0625, -0.125, -0.1152777777777778, 0.16666666666666666, 0.20625, 0.1, 0.43333333333333335, -0.4, 0.0, 0.04999999999999999, 0.0, -0.05, 0.0, -0.9, -0.05000000000000001, 0.3, 0.1, 0.0, 0.1, -0.16666666666666666, -0.033333333333333326, -0.8, 0.0, 0.375, 0.5, 0.0, 0.0, 0.016666666666666677, -0.16666666666666666, -0.1111111111111111, 0.375, 0.14630681818181818, 0.3833333333333333, 0.3, 0.0, -0.08333333333333333, 0.171875, 0.5, -0.027272727272727282, -0.2, -0.18888888888888888, -0.18333333333333335, 0.2916666666666667, 0.0, 0.25, 0.4, -0.5, 0.13636363636363635, -0.09333333333333334, 0.09523809523809523, -0.07142857142857142, 0.0, -0.1, 0.0, -0.14, 0.35, 0.0, -0.2, 0.008333333333333338, -0.22838541666666667, 0.0, 0.375, 0.07314814814814814, -0.25, 0.0, 0.09, 0.08825757575757576, 0.25, 0.375, -0.5, -0.25272727272727274, 0.25, 0.25, 0.2, 0.0, -0.08333333333333333, 0.3, 0.0, 0.0, 0.8, 0.13636363636363635, 0.16875, 0.1, 0.05, -0.08333333333333333, 0.0, 0.027777777777777787, 0.06805555555555555, 0.0, -0.0875, -0.14666666666666667, 0.39166666666666666, 0.0, 0.35, 0.0, 0.0, 0.0, 0.25, 0.0, -0.1, 0.1, 0.0, 0.0, 0.5, 0.05, 0.0, 0.2, -0.3, -0.2, 0.0, 0.1875, -0.09837662337662337, 0.0, 0.2, 0.0, -0.125, -0.16666666666666666, 0.0, 0.10833333333333334, 0.5, -0.3277777777777778, 0.0, -0.2333333333333333, -0.6, 0.15625, 0.0, 0.12222222222222222, 0.0, 0.0, -0.022222222222222237, 0.0, 0.625, 0.0, 0.0, 0.0, -0.14543650793650795, 0.2787878787878788, 0.0, 0.0, 0.5, -0.26031746031746034, 0.145, 0.325, 0.0, 0.0, 0.0, -0.275, 0.5, 0.2857142857142857, 0.625, -0.16666666666666666, 0.0, -0.9, -0.2916666666666667, 0.03645833333333334, 0.0, 0.3, 0.0, 0.0, -0.025, 0.0, -0.125, 0.0, -0.033333333333333326, 0.0, 0.0, 0.05656565656565657, 0.0, 0.5, 0.0, 0.0, 0.0, -0.08333333333333333, 0.0, -0.2916666666666667, 0.05625000000000001, 0.06818181818181818, 0.0, 0.0, 0.10476190476190476, 0.09285714285714285, -0.2833333333333333, 0.0, 0.2, 0.0, -0.35, 0.2, -0.30000000000000004, 0.0, 0.125, -0.08749999999999998, 0.0, 0.0, 0.0, -0.5, -0.033333333333333326, 0.0625, -0.08214285714285714, -0.26666666666666666, 0.0, 0.2916666666666667, 0.6, 0.0, 0.0, -0.3, 0.44166666666666665, 0.0, 0.15833333333333335, 0.0, 0.625, 0.0, 0.2, -0.125, 0.0, 0.0, 0.2, 0.0, 0.0, -0.7999999999999999, 0.0, 0.5, -0.21666666666666665, 0.0, -0.41666666666666663, 0.1152777777777778, 0.0, 0.0, 0.0, -0.10555555555555557, -0.11666666666666667, -0.19999999999999998, 0.2, 0.3875, 0.0, 0.0, 0.0, 0.0, 0.2375, 0.028787878787878782, 0.39285714285714285, 0.0, 0.275, 0.31666666666666665, 0.5, 0.26, 0.55, 0.16818181818181818, -0.325, 0.05, 0.19, 0.0, 0.16666666666666669, -0.2, 0.0, 0.15000000000000002, 0.0, 0.2222222222222222, -0.12407407407407407, -0.10833333333333334, -0.2708333333333333, -0.025000000000000005, 0.0, 0.0, -0.2833333333333334, 0.35714285714285715, 0.0, 1.0, -0.2416666666666667, 0.0, 0.0, 0.0, 0.0, 0.13333333333333333, 0.36500000000000005, 0.0, 0.175, 0.0, 0.12222222222222222, -0.10666666666666666, 0.25, 0.5859375, 0.2375, -0.09722222222222224, -0.25, 0.25, 0.8, 0.1, -0.07500000000000001, -0.16666666666666666, -0.04166666666666666, 0.0, -0.5166666666666666, 0.0, 0.0, 0.3, -0.25, 0.02777777777777779, 0.07916666666666668, -0.12954545454545455, 0.0, -0.2, 0.0, 0.0, -0.1527777777777778, 0.0, 0.0, 0.0, -0.225, 0.0, 0.10357142857142856, 0.3181818181818182, 0.4, 0.0, -0.08333333333333333, 0.0, -0.25, 0.0, 0.21190476190476193, -0.2916666666666667, 0.30000000000000004, 0.0, 0.0, -0.3333333333333333, 0.43333333333333335, 0.0, -0.016666666666666663, 0.19444444444444445, 0.0, 0.0, 0.23333333333333334, 0.25, 0.016666666666666663, 0.2, 0.0, -0.10416666666666666, 0.14444444444444446, 0.0888888888888889, 0.6, 0.19999999999999998, 0.0, 0.25, -0.10833333333333334, 0.02477272727272727, 0.0, 0.0, 0.0, 0.14285714285714285, 0.275, 0.0, 0.0, 0.0, -0.1416666666666667, 0.0, 0.08333333333333333, 0.0, 0.25, -0.3375, 0.37554112554112556, 0.0, 0.32499999999999996, 0.0, -0.125, 0.0, 0.033333333333333326, 0.0, 0.20833333333333331, 0.0, 0.0, 0.0, 0.25, 0.0, 0.0606060606060606, 0.0, 0.5033333333333333, 0.49531250000000004, 1.0, 0.0, 0.0, 0.0, 0.2314285714285714, 0.0, 0.3277777777777778, -0.125, -0.015151515151515152, 0.0, 0.0, 0.061111111111111116, -0.1, 0.0, 0.1, 0.0, 0.0, 0.2, -0.2, 0.55, -0.12916666666666665, -0.09999999999999999, 0.0, -0.08333333333333333, -0.5, 0.35, 0.0, 0.0, 0.0, 0.0, 0.1597222222222222, 0.0, -0.12121212121212122, -0.19444444444444448, 0.0, 0.0, 0.0, 0.0, 0.7000000000000001, 0.0, -1.0, 0.09444444444444444, 0.1844907407407407, 0.20416666666666666, -0.0018518518518518638, 0.25833333333333336, 0.0, 0.0, -0.3, -0.08333333333333333, 0.0, 0.0, 0.0, 0.09999999999999999, -0.20833333333333331, 0.0, 0.1, 0.12777777777777777, 0.2, 0.0, -0.06666666666666667, 0.0, 0.08333333333333333, 0.08333333333333334, 0.32, 0.0, 0.0, -0.078125, -0.16666666666666666, 0.02083333333333335, 0.25, 0.0, -0.07121212121212121, 0.3, 0.2833333333333333, 0.0, 0.0375, 0.03333333333333333, -0.016666666666666666, 0.275, -0.07499999999999998, -0.175, 0.0, 0.1875, 0.0, -0.125, -0.075, 0.4444444444444444, 0.16249999999999998, 0.0, 0.0, 0.4, 0.14666666666666667, -0.15625, -0.05174603174603175, -0.2, 0.0986111111111111, 0.0, 0.0, -0.16666666666666666, 0.0, 0.31111111111111117, 0.10000000000000002, 0.0, 0.0, 0.5333333333333333, -0.16666666666666666, -0.06565656565656565, 0.3, 0.0, -0.1777777777777778, 0.0, 0.3, 0.6875, 0.0, 0.05214285714285714, 0.08333333333333333, 0.44285714285714284, -0.3888888888888889, 0.0, 0.0, -0.2613425925925926, -0.5, 0.016388888888888876, 0.3571428571428571, -0.4374999999999999, 0.5, 0.2, -0.16666666666666666, 0.4333333333333333, -0.08333333333333333, -0.8, -0.025, -0.3111111111111111, -0.09722222222222221, 0.1, -0.041666666666666664, 0.0, 0.634765625, 0.0, 0.0, 0.0, -0.209375, -0.5, -0.8, 0.09814814814814814, 0.0, -0.22333333333333333, 0.0, 0.0, 0.5, -0.06666666666666667, -0.07500000000000001, 0.2857142857142857, 0.0, 0.0, 0.5, -0.05000000000000001, 0.0, -0.07321428571428572, 0.5, 0.0, -0.12083333333333333, 0.0, -0.016666666666666666, 0.0, -0.15625, -0.07500000000000001, -0.1, 0.3666666666666667, -0.16666666666666666, 0.5, 0.0, 0.0, -0.7, 0.0, 0.1958333333333334, 0.24583333333333332, 0.0, 0.065, -0.15000000000000002, 0.0, 0.0, 0.0, -0.29365079365079366, 0.01666666666666667, 0.0, 0.0, 0.13636363636363635, 0.13636363636363635, 0.06666666666666667, 0.17499999999999996, -0.05555555555555555, 0.043181818181818175, -0.16666666666666666, 0.0, 0.4, 0.0, 0.0, 0.0, 0.032467532467532464, 0.4, 0.0, 0.19523809523809524, 0.0, -0.1, 0.0, 0.2, 0.0, -0.05, 0.0, 0.19727272727272727, 0.017142857142857137, 0.0, 0.2, 0.0, 0.0, 0.2, 0.0, 0.13636363636363635, 0.5, 1.0, 0.0, 0.0, 0.22214285714285717, -0.0888888888888889, 0.0, 0.85, -0.16666666666666666, 0.0, 0.20625, -0.004166666666666666, 0.0, 0.0, -0.16666666666666666, -0.05612244897959183, 0.125, 0.2, 0.25, -0.16666666666666666, 0.5, 0.0, -0.29999999999999993, -0.24119047619047623, 0.0, -1.0, 0.0, -0.07777777777777779, 0.0, -0.01333333333333333, 0.0, 0.09722222222222222, 0.04166666666666667, 0.0, -0.15555555555555559, -0.13518518518518519, -0.6666666666666666, -0.03333333333333333, -0.18181818181818182, -0.2, 0.5, -0.08333333333333333, -0.6, 0.5, 0.0, 0.0, 0.0, -0.05, -0.06666666666666667, -0.06666666666666667, 0.0, 0.0, 0.0, 0.5, 0.0, 0.13636363636363635, -0.17833333333333337, 0.0, 0.5, 0.0, 0.0, 0.0, 0.1464285714285714, 0.31, 0.0, -0.125, 0.0, 0.5, 0.35, -0.08333333333333333, 0.13636363636363635, 0.0, 0.39285714285714285, 0.0, -0.07222222222222223, 0.0, 0.07777777777777778, 0.0, 0.07916666666666668, 0.0, 0.0, 0.5, 0.17777777777777778, 0.0, 0.0, 0.0, 0.6, -0.3333333333333333, 0.0, 0.0, 0.6000000000000001, -0.0625, -0.2875, -0.095, 0.5, 0.0, 0.8, -0.4, -0.6000000000000001, 0.5, -0.1625, 0.1, 0.0, 0.0, 0.0, 0.0, 0.0, -0.15555555555555559, 0.35, -0.2, 0.08333333333333334, -0.05833333333333333, 0.2785714285714286, 0.0, 0.0, 0.21000000000000002, 0.6000000000000001, 0.0, 0.16666666666666666, 0.0, 0.006944444444444457, 0.0, -0.2552083333333333, 0.9, 0.0, 0.25, 0.0, 0.0, 0.25000000000000006, -0.06666666666666667, -0.4318181818181818, 0.0, 0.2583333333333333, 0.10555555555555554, 0.0, 0.24166666666666667, 0.0, -0.14583333333333331, -0.5, -0.10416666666666666, 0.2625, 0.2619047619047619, -0.025, 0.037500000000000006, 0.0, 0.0, 0.04545454545454545, -0.051851851851851864, 0.0, -0.6999999999999998, -0.16666666666666666, 0.0, 0.0, 0.0, -0.2916666666666667, 0.1, 0.0, -0.37333333333333335, 0.0, 0.14285714285714285, 0.043333333333333335, -0.08750000000000001, 0.24851190476190474, 0.0, 0.45, 0.0, 0.25, -0.015873015873015872, 0.5, 0.29523809523809524, 0.0, 0.0, 0.15, 0.0, 0.0, 0.0, 0.0, 0.18333333333333335, 0.16666666666666666, 0.0, 0.0, 0.06666666666666667, -0.1333333333333333, -0.07142857142857142, 0.18796296296296297, -0.2380952380952381, -0.125, 0.0, -0.5, 0.0, 0.1, 0.0, -0.16666666666666666, 0.0, -0.15555555555555559, -0.025, 0.0, 0.0, 0.0, 0.0, -0.13333333333333333, -0.13333333333333333, 0.0, 0.25, 0.0, 0.0, 0.0, 0.0, 0.0, -0.1, 0.0, -0.041666666666666664, 0.15, -0.05, 0.0, 0.0, 0.19999999999999998, -0.8, -0.17454545454545453, -0.2, 0.042857142857142844, 0.26944444444444443, 0.0, -0.6, 0.494140625, 0.0, 0.0, 0.0, 0.0, 0.033333333333333326, 0.0, 0.0, -0.35, 0.0, 0.2, 0.06818181818181818, 0.0, -0.15, 0.03333333333333333, 0.0, -0.02777777777777779, 0.525, -0.3277777777777778, -0.13333333333333333, -0.002083333333333326, 0.0, 0.3571428571428571, 1.0, -0.036428571428571435, 0.3583333333333334, -0.6, 0.0, 0.1875, 0.0, 0.25, 0.6, 0.0, 0.2654389880952381, 0.0, -0.05069444444444445, -0.16111111111111112, 0.25, -0.25, 0.0, 0.0, -0.16666666666666666, 0.0, -0.03125, 0.0, 0.3, 0.0, 0.3166666666666667, -0.08333333333333333, 0.09375, -0.08333333333333333, -0.015151515151515152, -0.2, 0.03611111111111113, -0.21666666666666665, 0.4, -0.13333333333333333, 0.0, 0.5, 0.05, 0.35, 0.0, -0.5410714285714285, 0.2, 0.0, -0.08333333333333333, 0.0, -0.16666666666666666, 0.2, -0.16666666666666666, 0.0, -0.08333333333333333, 0.0, -0.16666666666666666, -0.056060606060606054, 0.25, 0.17045454545454544, 0.18, 0.0, 0.0, 0.0, -0.5, 0.0, 0.175, -0.26666666666666666, 0.625, 0.25, 0.0, 0.0, 0.012499999999999997, 0.0, 0.20833333333333334, 0.22500000000000003, -0.2, 0.26666666666666666, 0.25, 0.0, 0.0, 0.65, 0.0, -0.2775462962962963, -0.16666666666666666, 0.4666666666666666, 0.13636363636363635, 0.08750000000000001, -0.1, 0.0, 0.0, -0.033333333333333326, 0.15, 0.0, -0.09618055555555556, 0.11805555555555554, 0.0, -6.938893903907228e-18, -0.25, 0.23690476190476192, 0.0, 0.0, 0.65, 0.0, 0.0, -0.041666666666666664, -0.05, 0.0, 0.0, 0.0, 0.0, -0.2, -0.7166666666666667, 0.6166666666666667, -0.2, -0.6, 0.0, 0.0, 0.0, 0.0, -0.25, 0.23690476190476187, 0.03333333333333333, 0.10555555555555554, 0.0, -0.355, 0.0, -0.2833333333333333, 0.0, 0.155, 0.9, 0.0, 0.0, 0.0, 0.03333333333333333, 0.0, 0.0, 0.45, 0.0, 0.0, 0.25, 0.03411458333333334, 0.6, 0.0, 0.4375, 0.025, -0.27499999999999997, 0.0, 0.0, 0.2857142857142857, -0.5, 0.061734693877551025, 0.5, 0.0, -0.022222222222222216, 0.0, 0.125, -0.125, -0.41666666666666663, 0.25555555555555554, -0.5, 0.3166666666666667, 0.09375, -1.0, -0.2277777777777778, 0.6, 0.0, 0.033333333333333326, 0.0, 0.19583333333333333, 0.16666666666666669, -0.07916666666666666, 0.25555555555555554, 0.0, -0.04375000000000001, -0.07500000000000001, 0.45, 0.5, -0.5, 0.05, 0.4333333333333333, -0.625, 0.35, -0.36458333333333337, 0.3, 0.0, 0.0, 0.2857142857142857, 0.2, -0.03246753246753247, 0.3, -0.8, 0.25625, -0.2, 0.07777777777777779, 0.20833333333333334, 0.0, -0.29365079365079366, 0.1625, 0.25, -0.2875, 0.0, 0.425, 0.6428571428571428, 0.04999999999999999, 0.0, 0.3666666666666667, 0.0, 0.033333333333333326, -0.21851851851851853, 0.0, 0.0, -0.10000000000000002, -0.125, -0.11666666666666665, -0.2, 0.25, 0.0, 0.2857142857142857, 0.06818181818181818, 0.03333333333333333, -0.010101010101010102, 0.0, 0.0, 0.1416666666666667, 0.0, 0.26666666666666666, 0.0, 0.0, 0.0, 0.0, -0.075, 0.08333333333333333, 0.25, -0.065, 0.25, 0.3125, 0.0, 0.0, 0.0, 0.39714285714285713, 0.25, 0.390625, 0.0, 0.4, 0.0, 0.1470703125, 0.0, 5.551115123125783e-17, 0.13333333333333333, 0.24476190476190476, -0.1, 0.0, -0.08333333333333333, 0.0, 0.0, -0.17499999999999996, 0.0, 0.24444444444444446, 0.55, 0.30666666666666664, 0.2, -0.052727272727272734, 0.125, 0.25, 0.0, 0.125, 0.42500000000000004, -0.10595238095238095, 0.1, -0.35, 0.8, 0.375, 0.22095238095238093, 0.14285714285714285, 0.0859375, 0.0, 0.0, 0.1, -0.12222222222222223, -0.16666666666666666, 0.0, 0.06818181818181818, -0.08333333333333333, 0.125, 0.0, 0.25, -0.07777777777777778, 0.25, 0.0, -0.47812499999999997, 0.25, 0.0, 0.29523809523809524, -0.336, -0.2333333333333333, 0.0, 0.1, 0.25, 0.26666666666666666, 0.25, -0.10000000000000002, 0.0, -0.2593749999999999, -0.225, 0.0, -0.4, -0.28888888888888886, 0.25, -0.08333333333333333, 0.16, 0.16666666666666666, 0.5, 0.12333333333333335, -0.2583333333333333, 0.0, 0.0, 0.85, 0.020833333333333332, 0.0, 0.0, -0.037500000000000006, -0.3125, 0.4, 0.125, 0.25, -0.19166666666666665, -0.16666666666666666, 0.0, 0.024999999999999994, 0.0, 0.015136054421768705, -0.16666666666666666, -0.07222222222222223, 0.06190476190476191, -0.2527777777777778, 0.0, -0.13333333333333333, -0.16666666666666666, 0.2888888888888889, -0.16666666666666666, 0.0, 0.3166666666666667, -0.16666666666666666, -0.09166666666666667, -0.08333333333333333, -0.16666666666666666, -0.19166666666666662, 0.5233333333333333, 0.08333333333333334, -0.20833333333333331, -0.16666666666666666, -0.08333333333333333, 0.0, -0.23333333333333334, 0.0, -0.23723958333333334, -0.16666666666666666, 0.0, -0.20833333333333331, 0.0, -0.0050000000000000044, 0.16666666666666669, 0.3416666666666667, 0.19444444444444442, -0.25, -0.041666666666666664, 0.6, 0.05333333333333334, 0.0, -0.2864583333333333, 0.29714285714285715, -0.16666666666666666, 0.26666666666666666, -0.025, -0.16666666666666666, -0.16666666666666666, -0.16666666666666666, -0.3833333333333333, -0.16666666666666666, -0.15299479166666666, -0.16666666666666666, 0.7, 0.11666666666666668, -0.08796296296296297, -0.16666666666666666, -0.10714285714285714, 0.0, -0.16666666666666666, -0.18888888888888888, -0.16666666666666666, -0.5, -0.16666666666666666, -0.038095238095238106, 0.0, 0.09166666666666667, 0.5, 0.0, 0.0, 0.0, 0.0, 0.0, 0.4, 0.0, -0.27777777777777773, -0.06428571428571428, -0.05555555555555555, -0.16666666666666666, -0.21666666666666667, -0.16666666666666666, 0.31111111111111117, -0.006666666666666665, 0.1741666666666667, -0.20833333333333331, -0.16666666666666666, 0.016666666666666677, 0.0, -0.05555555555555555, -0.16666666666666666, -0.05416666666666667, -0.16666666666666666, 0.13636363636363635, 0.011111111111111118, -0.13333333333333333, 0.25, -0.3333333333333333, -0.3833333333333333, 0.0, -0.16666666666666666, 0.04166666666666667, -0.5, 0.3666666666666667, -0.03333333333333333, 0.07083333333333333, 0.06666666666666667, -0.022222222222222216, -0.07916666666666666, 0.07916666666666666, 0.07777777777777779, -0.16666666666666666, -0.16666666666666666, 0.04166666666666667, -0.18333333333333335, -0.16666666666666666, -0.2833333333333333, -0.16666666666666666, -0.20833333333333331, -0.12222222222222223, 0.0, 0.16666666666666669, 0.7, -0.16666666666666666, 0.08333333333333334, 0.0, 0.0, -0.20833333333333331, -0.16666666666666666, -0.16666666666666666, -0.16666666666666666, 0.0, -0.16666666666666666, 0.17500000000000002, -0.16666666666666666, -0.04107142857142858, -0.16666666666666666, -0.041666666666666664, -0.05555555555555555, -0.08333333333333333, -0.25555555555555554, -0.16666666666666666, -0.08333333333333333, 0.07777777777777779, -0.16666666666666666, 0.0, -0.18787878787878784, -0.32552083333333326, 0.3444444444444445, 0.008333333333333335, -0.16666666666666666, -0.007936507936507936, 0.0, -0.020238095238095243, -0.11499999999999999, -0.16666666666666666, -0.08888888888888889, -0.018749999999999982, -0.14333333333333334, -0.23666666666666666, 0.022222222222222213, 0.016666666666666677, -0.20833333333333331, -0.23611111111111113, 0.85, 0.0, -0.16666666666666666, 0.21666666666666665, 0.5, -0.08333333333333333, 0.20833333333333334, -0.04166666666666667, -0.23333333333333334, 0.0, -0.07333333333333333, 0.16666666666666669, -0.16666666666666666, -0.16666666666666666, -0.05555555555555555, -0.10416666666666666, -0.11666666666666665, -0.20833333333333331, -0.0888888888888889, -0.015151515151515152, -0.32222222222222224, -0.16666666666666666, 0.12, -0.16666666666666666, 0.3166666666666667, 0.0, 0.3581439393939394, 0.0, 0.0, 0.11111111111111112, 0.06666666666666667, 0.2569444444444445, 0.0, 0.25, 0.1619047619047619, 0.0, -0.16666666666666666, 0.375, -0.5333333333333333, -0.16666666666666666, -0.049999999999999996, 0.195, 0.08333333333333334, 0.21666666666666667, -0.16666666666666666, -0.18333333333333335, -0.2222222222222222, 0.825, 0.033333333333333326, -0.16666666666666666, -0.16666666666666666, -0.16666666666666666, -0.16666666666666666, -0.16666666666666666, -0.08333333333333333, 0.3166666666666667, -0.16666666666666666, -0.04583333333333328, -0.24999999999999997, -0.20833333333333331, -0.5833333333333334, -0.10151515151515152, -0.16666666666666666, 0.07222222222222223, 0.0, 0.0, -0.05555555555555555, 0.16666666666666669, 0.1366666666666667, -0.044444444444444446, 0.04166666666666667, -0.16666666666666666, -0.14444444444444446, 0.008333333333333338, -0.18333333333333335, 0.011111111111111146, -0.32222222222222224, -0.18466666666666667, -0.4222222222222222, 0.0, -0.45555555555555555, -0.32222222222222224, -0.16666666666666666, -0.08095238095238093, -0.16666666666666666, -0.16666666666666666, -0.19166666666666665, -0.12666666666666665, -0.16666666666666666, -0.16666666666666666, -0.4, -0.2666666666666666, 0.02777777777777778, -0.16666666666666666, -0.18333333333333335, -0.16666666666666666, -0.004861111111111112, -0.20833333333333331, -0.16666666666666666, 0.3166666666666667, 0.0, 0.0, 0.0, -0.041666666666666664, -0.16666666666666669, 0.3166666666666667, -0.5, -0.16666666666666666, -0.08333333333333333, -0.08333333333333333, -0.16666666666666666, 0.07150072150072151, -0.12424242424242422, -0.07222222222222223, -0.16666666666666666, 0.05833333333333335, -0.16666666666666666, -0.35347222222222224, -0.16666666666666666, 0.24, -0.3, 0.21666666666666667, -0.21527777777777776, 0.425, 0.0, -0.2388888888888889, 0.011666666666666667, 0.05000000000000001, 0.0, -0.15606060606060607, 0.0, 0.16818181818181818, 0.02777777777777778, 0.9765625, -0.06666666666666668, 0.0, 0.10000000000000002, 0.6, -0.025000000000000022, 0.0, 0.0, 0.0625, 0.0, -0.041666666666666664, -0.5, 0.0, 0.5, 0.0, 0.0, 0.020833333333333343, 0.17789204915364581, 0.175, 0.0, 0.13333333333333333, 0.12000000000000002, 0.05, -0.25, 0.0, 0.0, 0.0, 0.0, 0.10000000000000002, -0.17500000000000002, 0.0, 0.125, 0.0, 0.06944444444444446, -0.1581845238095238, -0.125, -0.20476190476190478, 0.0, 0.0, 0.5, -0.05, 0.2833333333333333, -0.2, 0.08148148148148147, 0.0, -0.2, 0.125, -0.02833333333333333, 0.05, 0.0, -0.16666666666666666, 0.0619047619047619, -0.05555555555555555, 0.35, 0.0, 0.1625, -0.051851851851851864, 0.03333333333333333, 0.028124999999999997, -0.07142857142857142, -0.2833333333333334, -0.15000000000000002, 0.0, 0.038888888888888896, 0.0, 0.29500000000000004, 0.0, 0.0, -0.16997354497354497, 0.0, 0.3333333333333333, 0.08611111111111111, 0.0, -0.6, 0.0, -0.28, 0.6], \"xaxis\": \"x\", \"yaxis\": \"y\"}],\n",
              "                        {\"barmode\": \"relative\", \"legend\": {\"tracegroupgap\": 0}, \"margin\": {\"t\": 60}, \"template\": {\"data\": {\"bar\": [{\"error_x\": {\"color\": \"#2a3f5f\"}, \"error_y\": {\"color\": \"#2a3f5f\"}, \"marker\": {\"line\": {\"color\": \"#E5ECF6\", \"width\": 0.5}}, \"type\": \"bar\"}], \"barpolar\": [{\"marker\": {\"line\": {\"color\": \"#E5ECF6\", \"width\": 0.5}}, \"type\": \"barpolar\"}], \"carpet\": [{\"aaxis\": {\"endlinecolor\": \"#2a3f5f\", \"gridcolor\": \"white\", \"linecolor\": \"white\", \"minorgridcolor\": \"white\", \"startlinecolor\": \"#2a3f5f\"}, \"baxis\": {\"endlinecolor\": \"#2a3f5f\", \"gridcolor\": \"white\", \"linecolor\": \"white\", \"minorgridcolor\": \"white\", \"startlinecolor\": \"#2a3f5f\"}, \"type\": \"carpet\"}], \"choropleth\": [{\"colorbar\": {\"outlinewidth\": 0, \"ticks\": \"\"}, \"type\": \"choropleth\"}], \"contour\": [{\"colorbar\": {\"outlinewidth\": 0, \"ticks\": \"\"}, \"colorscale\": [[0.0, \"#0d0887\"], [0.1111111111111111, \"#46039f\"], [0.2222222222222222, \"#7201a8\"], [0.3333333333333333, \"#9c179e\"], [0.4444444444444444, \"#bd3786\"], [0.5555555555555556, \"#d8576b\"], [0.6666666666666666, \"#ed7953\"], [0.7777777777777778, \"#fb9f3a\"], [0.8888888888888888, \"#fdca26\"], [1.0, \"#f0f921\"]], \"type\": \"contour\"}], \"contourcarpet\": [{\"colorbar\": {\"outlinewidth\": 0, \"ticks\": \"\"}, \"type\": \"contourcarpet\"}], \"heatmap\": [{\"colorbar\": {\"outlinewidth\": 0, \"ticks\": \"\"}, \"colorscale\": [[0.0, \"#0d0887\"], [0.1111111111111111, \"#46039f\"], [0.2222222222222222, \"#7201a8\"], [0.3333333333333333, \"#9c179e\"], [0.4444444444444444, \"#bd3786\"], [0.5555555555555556, \"#d8576b\"], [0.6666666666666666, \"#ed7953\"], [0.7777777777777778, \"#fb9f3a\"], [0.8888888888888888, \"#fdca26\"], [1.0, \"#f0f921\"]], \"type\": \"heatmap\"}], \"heatmapgl\": [{\"colorbar\": {\"outlinewidth\": 0, \"ticks\": \"\"}, \"colorscale\": [[0.0, \"#0d0887\"], [0.1111111111111111, \"#46039f\"], [0.2222222222222222, \"#7201a8\"], [0.3333333333333333, \"#9c179e\"], [0.4444444444444444, \"#bd3786\"], [0.5555555555555556, \"#d8576b\"], [0.6666666666666666, \"#ed7953\"], [0.7777777777777778, \"#fb9f3a\"], [0.8888888888888888, \"#fdca26\"], [1.0, \"#f0f921\"]], \"type\": \"heatmapgl\"}], \"histogram\": [{\"marker\": {\"colorbar\": {\"outlinewidth\": 0, \"ticks\": \"\"}}, \"type\": \"histogram\"}], \"histogram2d\": [{\"colorbar\": {\"outlinewidth\": 0, \"ticks\": \"\"}, \"colorscale\": [[0.0, \"#0d0887\"], [0.1111111111111111, \"#46039f\"], [0.2222222222222222, \"#7201a8\"], [0.3333333333333333, \"#9c179e\"], [0.4444444444444444, \"#bd3786\"], [0.5555555555555556, \"#d8576b\"], [0.6666666666666666, \"#ed7953\"], [0.7777777777777778, \"#fb9f3a\"], [0.8888888888888888, \"#fdca26\"], [1.0, \"#f0f921\"]], \"type\": \"histogram2d\"}], \"histogram2dcontour\": [{\"colorbar\": {\"outlinewidth\": 0, \"ticks\": \"\"}, \"colorscale\": [[0.0, \"#0d0887\"], [0.1111111111111111, \"#46039f\"], [0.2222222222222222, \"#7201a8\"], [0.3333333333333333, \"#9c179e\"], [0.4444444444444444, \"#bd3786\"], [0.5555555555555556, \"#d8576b\"], [0.6666666666666666, \"#ed7953\"], [0.7777777777777778, \"#fb9f3a\"], [0.8888888888888888, \"#fdca26\"], [1.0, \"#f0f921\"]], \"type\": \"histogram2dcontour\"}], \"mesh3d\": [{\"colorbar\": {\"outlinewidth\": 0, \"ticks\": \"\"}, \"type\": \"mesh3d\"}], \"parcoords\": [{\"line\": {\"colorbar\": {\"outlinewidth\": 0, \"ticks\": \"\"}}, \"type\": \"parcoords\"}], \"pie\": [{\"automargin\": true, \"type\": \"pie\"}], \"scatter\": [{\"marker\": {\"colorbar\": {\"outlinewidth\": 0, \"ticks\": \"\"}}, \"type\": \"scatter\"}], \"scatter3d\": [{\"line\": {\"colorbar\": {\"outlinewidth\": 0, \"ticks\": \"\"}}, \"marker\": {\"colorbar\": {\"outlinewidth\": 0, \"ticks\": \"\"}}, \"type\": \"scatter3d\"}], \"scattercarpet\": [{\"marker\": {\"colorbar\": {\"outlinewidth\": 0, \"ticks\": \"\"}}, \"type\": \"scattercarpet\"}], \"scattergeo\": [{\"marker\": {\"colorbar\": {\"outlinewidth\": 0, \"ticks\": \"\"}}, \"type\": \"scattergeo\"}], \"scattergl\": [{\"marker\": {\"colorbar\": {\"outlinewidth\": 0, \"ticks\": \"\"}}, \"type\": \"scattergl\"}], \"scattermapbox\": [{\"marker\": {\"colorbar\": {\"outlinewidth\": 0, \"ticks\": \"\"}}, \"type\": \"scattermapbox\"}], \"scatterpolar\": [{\"marker\": {\"colorbar\": {\"outlinewidth\": 0, \"ticks\": \"\"}}, \"type\": \"scatterpolar\"}], \"scatterpolargl\": [{\"marker\": {\"colorbar\": {\"outlinewidth\": 0, \"ticks\": \"\"}}, \"type\": \"scatterpolargl\"}], \"scatterternary\": [{\"marker\": {\"colorbar\": {\"outlinewidth\": 0, \"ticks\": \"\"}}, \"type\": \"scatterternary\"}], \"surface\": [{\"colorbar\": {\"outlinewidth\": 0, \"ticks\": \"\"}, \"colorscale\": [[0.0, \"#0d0887\"], [0.1111111111111111, \"#46039f\"], [0.2222222222222222, \"#7201a8\"], [0.3333333333333333, \"#9c179e\"], [0.4444444444444444, \"#bd3786\"], [0.5555555555555556, \"#d8576b\"], [0.6666666666666666, \"#ed7953\"], [0.7777777777777778, \"#fb9f3a\"], [0.8888888888888888, \"#fdca26\"], [1.0, \"#f0f921\"]], \"type\": \"surface\"}], \"table\": [{\"cells\": {\"fill\": {\"color\": \"#EBF0F8\"}, \"line\": {\"color\": \"white\"}}, \"header\": {\"fill\": {\"color\": \"#C8D4E3\"}, \"line\": {\"color\": \"white\"}}, \"type\": \"table\"}]}, \"layout\": {\"annotationdefaults\": {\"arrowcolor\": \"#2a3f5f\", \"arrowhead\": 0, \"arrowwidth\": 1}, \"coloraxis\": {\"colorbar\": {\"outlinewidth\": 0, \"ticks\": \"\"}}, \"colorscale\": {\"diverging\": [[0, \"#8e0152\"], [0.1, \"#c51b7d\"], [0.2, \"#de77ae\"], [0.3, \"#f1b6da\"], [0.4, \"#fde0ef\"], [0.5, \"#f7f7f7\"], [0.6, \"#e6f5d0\"], [0.7, \"#b8e186\"], [0.8, \"#7fbc41\"], [0.9, \"#4d9221\"], [1, \"#276419\"]], \"sequential\": [[0.0, \"#0d0887\"], [0.1111111111111111, \"#46039f\"], [0.2222222222222222, \"#7201a8\"], [0.3333333333333333, \"#9c179e\"], [0.4444444444444444, \"#bd3786\"], [0.5555555555555556, \"#d8576b\"], [0.6666666666666666, \"#ed7953\"], [0.7777777777777778, \"#fb9f3a\"], [0.8888888888888888, \"#fdca26\"], [1.0, \"#f0f921\"]], \"sequentialminus\": [[0.0, \"#0d0887\"], [0.1111111111111111, \"#46039f\"], [0.2222222222222222, \"#7201a8\"], [0.3333333333333333, \"#9c179e\"], [0.4444444444444444, \"#bd3786\"], [0.5555555555555556, \"#d8576b\"], [0.6666666666666666, \"#ed7953\"], [0.7777777777777778, \"#fb9f3a\"], [0.8888888888888888, \"#fdca26\"], [1.0, \"#f0f921\"]]}, \"colorway\": [\"#636efa\", \"#EF553B\", \"#00cc96\", \"#ab63fa\", \"#FFA15A\", \"#19d3f3\", \"#FF6692\", \"#B6E880\", \"#FF97FF\", \"#FECB52\"], \"font\": {\"color\": \"#2a3f5f\"}, \"geo\": {\"bgcolor\": \"white\", \"lakecolor\": \"white\", \"landcolor\": \"#E5ECF6\", \"showlakes\": true, \"showland\": true, \"subunitcolor\": \"white\"}, \"hoverlabel\": {\"align\": \"left\"}, \"hovermode\": \"closest\", \"mapbox\": {\"style\": \"light\"}, \"paper_bgcolor\": \"white\", \"plot_bgcolor\": \"#E5ECF6\", \"polar\": {\"angularaxis\": {\"gridcolor\": \"white\", \"linecolor\": \"white\", \"ticks\": \"\"}, \"bgcolor\": \"#E5ECF6\", \"radialaxis\": {\"gridcolor\": \"white\", \"linecolor\": \"white\", \"ticks\": \"\"}}, \"scene\": {\"xaxis\": {\"backgroundcolor\": \"#E5ECF6\", \"gridcolor\": \"white\", \"gridwidth\": 2, \"linecolor\": \"white\", \"showbackground\": true, \"ticks\": \"\", \"zerolinecolor\": \"white\"}, \"yaxis\": {\"backgroundcolor\": \"#E5ECF6\", \"gridcolor\": \"white\", \"gridwidth\": 2, \"linecolor\": \"white\", \"showbackground\": true, \"ticks\": \"\", \"zerolinecolor\": \"white\"}, \"zaxis\": {\"backgroundcolor\": \"#E5ECF6\", \"gridcolor\": \"white\", \"gridwidth\": 2, \"linecolor\": \"white\", \"showbackground\": true, \"ticks\": \"\", \"zerolinecolor\": \"white\"}}, \"shapedefaults\": {\"line\": {\"color\": \"#2a3f5f\"}}, \"ternary\": {\"aaxis\": {\"gridcolor\": \"white\", \"linecolor\": \"white\", \"ticks\": \"\"}, \"baxis\": {\"gridcolor\": \"white\", \"linecolor\": \"white\", \"ticks\": \"\"}, \"bgcolor\": \"#E5ECF6\", \"caxis\": {\"gridcolor\": \"white\", \"linecolor\": \"white\", \"ticks\": \"\"}}, \"title\": {\"x\": 0.05}, \"xaxis\": {\"automargin\": true, \"gridcolor\": \"white\", \"linecolor\": \"white\", \"ticks\": \"\", \"title\": {\"standoff\": 15}, \"zerolinecolor\": \"white\", \"zerolinewidth\": 2}, \"yaxis\": {\"automargin\": true, \"gridcolor\": \"white\", \"linecolor\": \"white\", \"ticks\": \"\", \"title\": {\"standoff\": 15}, \"zerolinecolor\": \"white\", \"zerolinewidth\": 2}}}, \"title\": {\"text\": \"Sentiment Analysis Histogram : Number of Tweets = 4779\"}, \"xaxis\": {\"anchor\": \"y\", \"domain\": [0.0, 1.0], \"title\": {\"text\": \"pol\"}}, \"yaxis\": {\"anchor\": \"x\", \"domain\": [0.0, 1.0], \"title\": {\"text\": \"count\"}}},\n",
              "                        {\"responsive\": true}\n",
              "                    ).then(function(){\n",
              "                            \n",
              "var gd = document.getElementById('bc8fa8a9-e080-489e-97f4-2c3831c03e93');\n",
              "var x = new MutationObserver(function (mutations, observer) {{\n",
              "        var display = window.getComputedStyle(gd).display;\n",
              "        if (!display || display === 'none') {{\n",
              "            console.log([gd, 'removed!']);\n",
              "            Plotly.purge(gd);\n",
              "            observer.disconnect();\n",
              "        }}\n",
              "}});\n",
              "\n",
              "// Listen for the removal of the full notebook cells\n",
              "var notebookContainer = gd.closest('#notebook-container');\n",
              "if (notebookContainer) {{\n",
              "    x.observe(notebookContainer, {childList: true});\n",
              "}}\n",
              "\n",
              "// Listen for the clearing of the current output cell\n",
              "var outputEl = gd.closest('.output');\n",
              "if (outputEl) {{\n",
              "    x.observe(outputEl, {childList: true});\n",
              "}}\n",
              "\n",
              "                        })\n",
              "                };\n",
              "                \n",
              "            </script>\n",
              "        </div>\n",
              "</body>\n",
              "</html>"
            ]
          },
          "metadata": {
            "tags": []
          }
        }
      ]
    }
  ]
}